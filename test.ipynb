{
 "cells": [
  {
   "cell_type": "code",
   "execution_count": 3,
   "metadata": {},
   "outputs": [
    {
     "ename": "ModuleNotFoundError",
     "evalue": "No module named 'lichess_main'",
     "output_type": "error",
     "traceback": [
      "\u001b[1;31m---------------------------------------------------------------------------\u001b[0m",
      "\u001b[1;31mModuleNotFoundError\u001b[0m                       Traceback (most recent call last)",
      "\u001b[1;32m~\\AppData\\Local\\Temp\\ipykernel_15784\\35889356.py\u001b[0m in \u001b[0;36m<module>\u001b[1;34m\u001b[0m\n\u001b[0;32m      1\u001b[0m \u001b[1;32mimport\u001b[0m \u001b[0mchess\u001b[0m\u001b[1;33m.\u001b[0m\u001b[0mpgn\u001b[0m\u001b[1;33m\u001b[0m\u001b[1;33m\u001b[0m\u001b[0m\n\u001b[0;32m      2\u001b[0m \u001b[1;32mimport\u001b[0m \u001b[0mjson\u001b[0m\u001b[1;33m\u001b[0m\u001b[1;33m\u001b[0m\u001b[0m\n\u001b[1;32m----> 3\u001b[1;33m \u001b[1;32mimport\u001b[0m \u001b[0mlichess_main\u001b[0m\u001b[1;33m\u001b[0m\u001b[1;33m\u001b[0m\u001b[0m\n\u001b[0m",
      "\u001b[1;31mModuleNotFoundError\u001b[0m: No module named 'lichess_main'"
     ]
    }
   ],
   "source": [
    "import chess.pgn\n",
    "import json\n",
    "import lichess_main"
   ]
  },
  {
   "cell_type": "code",
   "execution_count": null,
   "metadata": {},
   "outputs": [],
   "source": [
    "puzzle_test_dict = json.load(open('puzzles_test.json'))"
   ]
  },
  {
   "cell_type": "code",
   "execution_count": null,
   "metadata": {},
   "outputs": [
    {
     "name": "stdout",
     "output_type": "stream",
     "text": [
      "True\n"
     ]
    }
   ],
   "source": [
    "# PawnEndgame\n",
    "theme = 'pawnEndgame'\n",
    "board = chess.Board(puzzle_test_dict[theme]['FEN'])\n",
    "result = lichess_main.is_pawnEndgame(board)\n",
    "print(result)"
   ]
  },
  {
   "cell_type": "code",
   "execution_count": null,
   "metadata": {},
   "outputs": [
    {
     "name": "stdout",
     "output_type": "stream",
     "text": [
      "opening\n"
     ]
    }
   ],
   "source": [
    "# Opening\n",
    "theme = 'Opening'\n",
    "result = lichess_main.game_phase(10, 40)\n",
    "print(result)"
   ]
  },
  {
   "cell_type": "code",
   "execution_count": null,
   "metadata": {},
   "outputs": [
    {
     "name": "stdout",
     "output_type": "stream",
     "text": [
      "middlegame\n"
     ]
    }
   ],
   "source": [
    "# middlegame\n",
    "theme = 'middlegame'\n",
    "result = lichess_main.game_phase(24, 40)\n",
    "print(result)"
   ]
  },
  {
   "cell_type": "code",
   "execution_count": null,
   "metadata": {},
   "outputs": [
    {
     "name": "stdout",
     "output_type": "stream",
     "text": [
      "endgame\n"
     ]
    }
   ],
   "source": [
    "# endgame\n",
    "theme = 'middlegame'\n",
    "result = lichess_main.game_phase(24, 13)\n",
    "print(result)"
   ]
  },
  {
   "cell_type": "code",
   "execution_count": null,
   "metadata": {},
   "outputs": [
    {
     "name": "stdout",
     "output_type": "stream",
     "text": [
      "True\n"
     ]
    }
   ],
   "source": [
    "# master \n",
    "theme = 'GM'\n",
    "result = lichess_main.is_master(theme)\n",
    "print(result)"
   ]
  },
  {
   "cell_type": "code",
   "execution_count": null,
   "metadata": {},
   "outputs": [
    {
     "name": "stdout",
     "output_type": "stream",
     "text": [
      "True\n"
     ]
    }
   ],
   "source": [
    "# castling \n",
    "theme = 'castling'\n",
    "result = lichess_main.is_castling(puzzle_test_dict[theme][\"FEN\"],puzzle_test_dict[theme]['Moves'])\n",
    "print(result)"
   ]
  },
  {
   "cell_type": "code",
   "execution_count": null,
   "metadata": {},
   "outputs": [
    {
     "name": "stdout",
     "output_type": "stream",
     "text": [
      "mateIn1\n"
     ]
    }
   ],
   "source": [
    "#mateIn1\n",
    "theme = 'mateIn1'\n",
    "result = lichess_main.is_mate(puzzle_test_dict[theme][\"FEN\"],puzzle_test_dict[theme]['Moves'], \"stockfish\\stockfish-windows-x86-64.exe\")\n",
    "print(result)"
   ]
  },
  {
   "cell_type": "code",
   "execution_count": null,
   "metadata": {},
   "outputs": [
    {
     "name": "stdout",
     "output_type": "stream",
     "text": [
      "mateIn2\n"
     ]
    }
   ],
   "source": [
    "#mateIn2\n",
    "theme = 'mateIn2'\n",
    "result = lichess_main.is_mate(puzzle_test_dict[theme][\"FEN\"],puzzle_test_dict[theme]['Moves'], \"stockfish\\stockfish-windows-x86-64.exe\")\n",
    "print(result)"
   ]
  },
  {
   "cell_type": "code",
   "execution_count": null,
   "metadata": {},
   "outputs": [
    {
     "name": "stdout",
     "output_type": "stream",
     "text": [
      "mateIn3\n"
     ]
    }
   ],
   "source": [
    "#mateIn3\n",
    "theme = 'mateIn3'\n",
    "result = lichess_main.is_mate(puzzle_test_dict[theme][\"FEN\"],puzzle_test_dict[theme]['Moves'], \"stockfish\\stockfish-windows-x86-64.exe\")\n",
    "print(result)"
   ]
  },
  {
   "cell_type": "code",
   "execution_count": null,
   "metadata": {},
   "outputs": [
    {
     "name": "stdout",
     "output_type": "stream",
     "text": [
      "mateIn4\n"
     ]
    }
   ],
   "source": [
    "#mateIn4\n",
    "theme = 'mateIn4'\n",
    "result = lichess_main.is_mate(puzzle_test_dict[theme][\"FEN\"],puzzle_test_dict[theme]['Moves'], \"stockfish\\stockfish-windows-x86-64.exe\")\n",
    "print(result)"
   ]
  },
  {
   "cell_type": "code",
   "execution_count": null,
   "metadata": {},
   "outputs": [
    {
     "name": "stdout",
     "output_type": "stream",
     "text": [
      "mateIn5\n"
     ]
    }
   ],
   "source": [
    "#mateIn5\n",
    "theme = 'mateIn5'\n",
    "result = lichess_main.is_mate(puzzle_test_dict[theme][\"FEN\"],puzzle_test_dict[theme]['Moves'], \"stockfish\\stockfish-windows-x86-64.exe\")\n",
    "print(result)"
   ]
  },
  {
   "cell_type": "code",
   "execution_count": null,
   "metadata": {},
   "outputs": [
    {
     "name": "stdout",
     "output_type": "stream",
     "text": [
      "False\n"
     ]
    }
   ],
   "source": [
    "#mateIn - test with castling\n",
    "theme = 'castling'\n",
    "result = lichess_main.is_mate(puzzle_test_dict[theme][\"FEN\"],puzzle_test_dict[theme]['Moves'], \"stockfish\\stockfish-windows-x86-64.exe\")\n",
    "print(result)"
   ]
  },
  {
   "cell_type": "code",
   "execution_count": null,
   "metadata": {},
   "outputs": [
    {
     "name": "stdout",
     "output_type": "stream",
     "text": [
      "True\n"
     ]
    }
   ],
   "source": [
    "# underPromotion\n",
    "theme = 'underPromotion'\n",
    "result = lichess_main.is_underpromotion(puzzle_test_dict[theme][\"FEN\"],puzzle_test_dict[theme]['Moves'])\n",
    "print(result)"
   ]
  },
  {
   "cell_type": "markdown",
   "metadata": {},
   "source": [
    "## TESTING MAIN.PY"
   ]
  },
  {
   "cell_type": "code",
   "execution_count": 2,
   "metadata": {},
   "outputs": [],
   "source": [
    "import main"
   ]
  },
  {
   "cell_type": "code",
   "execution_count": 3,
   "metadata": {},
   "outputs": [
    {
     "name": "stdout",
     "output_type": "stream",
     "text": [
      "Inaccuracy: 60\n",
      "Blunder: 58\n",
      "Mistake: 34\n",
      "\n",
      "Aggregate Theme Counts by Mistake Type (sorted):\n",
      "Blunder:\n",
      "  veryLong: 43\n",
      "  middlegame: 28\n",
      "  endgame: 17\n",
      "  opening: 13\n",
      "  advantage: 12\n",
      "  oneMove: 12\n",
      "  equality: 10\n",
      "  castling: 8\n",
      "  pin: 7\n",
      "  mate: 4\n",
      "  attackingf2f7: 3\n",
      "  knightEndgame: 3\n",
      "  short: 2\n",
      "  hangingPiece: 2\n",
      "  Vienna Game: Vienna Gambit: 2\n",
      "  King's Gambit Declined: Queen's Knight Defense: 2\n",
      "  pawnEndgame: 2\n",
      "  Ruy Lopez: Classical Variation: 2\n",
      "  rookEndgame: 1\n",
      "  Sicilian Defense: Closed: 1\n",
      "  Scandinavian Defense: Valencian Variation: 1\n",
      "  mateIn5: 1\n",
      "  Vienna Game: Anderssen Defense: 1\n",
      "  Sicilian Defense: Paulsen-Basman Defense: 1\n",
      "  doubleCheck: 1\n",
      "  long: 1\n",
      "  promotion: 1\n",
      "  Caro-Kann Defense: Main Line: 1\n",
      "  crushing: 1\n",
      "  queenEndgame: 1\n",
      "  Caro-Kann Defense: Maróczy Variation: 1\n",
      "  Ruy Lopez: Classical Variation, Zukertort Gambit: 1\n",
      "  mateIn2: 1\n",
      "Inaccuracy:\n",
      "  veryLong: 52\n",
      "  middlegame: 30\n",
      "  opening: 19\n",
      "  castling: 13\n",
      "  endgame: 11\n",
      "  equality: 10\n",
      "  pin: 9\n",
      "  oneMove: 8\n",
      "  advantage: 6\n",
      "  Caro-Kann Defense: Maróczy Variation: 4\n",
      "  Van't Kruijs Opening: 3\n",
      "  attackingf2f7: 3\n",
      "  rookEndgame: 2\n",
      "  Ponziani Opening: Neumann Gambit: 2\n",
      "  Philidor Defense: 2\n",
      "  promotion: 2\n",
      "  Ruy Lopez: Classical Variation: 2\n",
      "  enPassant: 1\n",
      "  Rapport-Jobava System: 1\n",
      "  Sicilian Defense: Closed: 1\n",
      "  Vienna Game: Vienna Gambit: 1\n",
      "  King's Gambit Declined: Queen's Knight Defense: 1\n",
      "  Ruy Lopez: Morphy Defense, Anderssen Variation: 1\n",
      "  Scandinavian Defense: Modern Variation: 1\n",
      "Mistake:\n",
      "  veryLong: 24\n",
      "  middlegame: 18\n",
      "  oneMove: 10\n",
      "  opening: 8\n",
      "  endgame: 8\n",
      "  advantage: 8\n",
      "  pin: 7\n",
      "  castling: 6\n",
      "  equality: 3\n",
      "  rookEndgame: 2\n",
      "  Ruy Lopez: Classical Variation, Zukertort Gambit: 2\n",
      "  Caro-Kann Defense: Advance Variation, Botvinnik-Carls Defense: 1\n",
      "  Van't Kruijs Opening: 1\n",
      "  Ponziani Opening: Neumann Gambit: 1\n",
      "  King's Gambit Declined: Queen's Knight Defense: 1\n",
      "  attackingf2f7: 1\n",
      "  Sicilian Defense: Closed: 1\n",
      "  Ruy Lopez: Morphy Defense, Anderssen Variation: 1\n",
      "  knightEndgame: 1\n"
     ]
    }
   ],
   "source": [
    "# Example usage\n",
    "api_token = ''  \n",
    "username = 'Deignium'\n",
    "\n",
    "player = main.Player(api_token, username)\n",
    "player.analyze_games()"
   ]
  },
  {
   "cell_type": "code",
   "execution_count": 4,
   "metadata": {},
   "outputs": [
    {
     "data": {
      "text/plain": [
       "{'id': 'deignium',\n",
       " 'username': 'Deignium',\n",
       " 'perfs': {'standard': {'games': 66, 'rating': 1554, 'rd': 46, 'prog': 0},\n",
       "  'bullet': {'games': 1, 'rating': 1645, 'rd': 314, 'prog': 0, 'prov': True},\n",
       "  'blitz': {'games': 66, 'rating': 1554, 'rd': 46, 'prog': 9},\n",
       "  'rapid': {'games': 0, 'rating': 1500, 'rd': 500, 'prog': 0, 'prov': True},\n",
       "  'classical': {'games': 0,\n",
       "   'rating': 1500,\n",
       "   'rd': 500,\n",
       "   'prog': 0,\n",
       "   'prov': True},\n",
       "  'correspondence': {'games': 0,\n",
       "   'rating': 1500,\n",
       "   'rd': 500,\n",
       "   'prog': 0,\n",
       "   'prov': True},\n",
       "  'puzzle': {'games': 2, 'rating': 1701, 'rd': 281, 'prog': 0, 'prov': True}},\n",
       " 'createdAt': datetime.datetime(2023, 1, 5, 8, 21, 58, 10000, tzinfo=datetime.timezone.utc),\n",
       " 'seenAt': datetime.datetime(2024, 4, 26, 8, 53, 35, 952000, tzinfo=datetime.timezone.utc),\n",
       " 'playTime': {'total': 33967, 'tv': 0},\n",
       " 'url': 'https://lichess.org/@/Deignium',\n",
       " 'count': {'all': 67,\n",
       "  'rated': 67,\n",
       "  'ai': 0,\n",
       "  'draw': 3,\n",
       "  'drawH': 3,\n",
       "  'loss': 38,\n",
       "  'lossH': 38,\n",
       "  'win': 26,\n",
       "  'winH': 26,\n",
       "  'bookmark': 0,\n",
       "  'playing': 0,\n",
       "  'import': 0,\n",
       "  'me': 0},\n",
       " 'followable': True,\n",
       " 'following': False,\n",
       " 'blocking': False,\n",
       " 'followsYou': False}"
      ]
     },
     "execution_count": 4,
     "metadata": {},
     "output_type": "execute_result"
    }
   ],
   "source": [
    "player.profile"
   ]
  },
  {
   "cell_type": "code",
   "execution_count": 5,
   "metadata": {},
   "outputs": [
    {
     "name": "stdout",
     "output_type": "stream",
     "text": [
      "Analysis results saved to Deignium\n"
     ]
    }
   ],
   "source": [
    "player.save_analysis_results()"
   ]
  },
  {
   "cell_type": "code",
   "execution_count": 7,
   "metadata": {},
   "outputs": [
    {
     "name": "stdout",
     "output_type": "stream",
     "text": [
      "Username: Deignium\n",
      "Title: N/A\n",
      "Standard Rating: 1554\n",
      "Bullet Rating: 1645\n",
      "Blitz Rating: 1554\n",
      "Rapid Rating: 1500\n",
      "Classical Rating: 1500\n",
      "Correspondence Rating: 1500\n",
      "Puzzle Rating: 1701\n",
      "Number of recent games fetched: 23\n"
     ]
    }
   ],
   "source": [
    "player.display_info()"
   ]
  },
  {
   "cell_type": "code",
   "execution_count": null,
   "metadata": {},
   "outputs": [],
   "source": []
  },
  {
   "cell_type": "code",
   "execution_count": null,
   "metadata": {},
   "outputs": [],
   "source": []
  }
 ],
 "metadata": {
  "kernelspec": {
   "display_name": "base",
   "language": "python",
   "name": "python3"
  },
  "language_info": {
   "codemirror_mode": {
    "name": "ipython",
    "version": 3
   },
   "file_extension": ".py",
   "mimetype": "text/x-python",
   "name": "python",
   "nbconvert_exporter": "python",
   "pygments_lexer": "ipython3",
   "version": "3.9.13"
  }
 },
 "nbformat": 4,
 "nbformat_minor": 2
}
