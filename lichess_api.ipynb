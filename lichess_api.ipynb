{
 "cells": [
  {
   "cell_type": "code",
   "execution_count": 2,
   "metadata": {},
   "outputs": [],
   "source": [
    "import chess.pgn\n",
    "import re\n",
    "import pandas\n",
    "import tqdm\n",
    "import berserk\n",
    "import asyncio\n",
    "import json\n",
    "\n"
   ]
  },
  {
   "cell_type": "code",
   "execution_count": 3,
   "metadata": {},
   "outputs": [],
   "source": [
    "session = berserk.TokenSession(\"\")\n",
    "client = berserk.Client(session=session)"
   ]
  },
  {
   "cell_type": "code",
   "execution_count": 6,
   "metadata": {},
   "outputs": [
    {
     "name": "stdout",
     "output_type": "stream",
     "text": [
      "{'id': 'F5u6PS7L', 'rated': True, 'variant': 'standard', 'speed': 'blitz', 'perf': 'blitz', 'createdAt': datetime.datetime(2024, 4, 5, 17, 39, 12, 214000, tzinfo=datetime.timezone.utc), 'lastMoveAt': datetime.datetime(2024, 4, 5, 17, 49, 1, 171000, tzinfo=datetime.timezone.utc), 'status': 'outoftime', 'source': 'pool', 'players': {'white': {'user': {'name': 'drapi', 'id': 'drapi'}, 'rating': 1971, 'ratingDiff': -50, 'provisional': True}, 'black': {'user': {'name': 'DB369', 'id': 'db369'}, 'rating': 1961, 'ratingDiff': 5}}, 'fullId': 'F5u6PS7LSb4Z', 'winner': 'black', 'opening': {'eco': 'C25', 'name': 'Vienna Game', 'ply': 3}, 'moves': 'e4 e5 Nc3 c6 Nf3 d6 d4 Qc7 d5 c5 Be3 a6 h4 Nf6 Bg5 Be7 Bxf6 Bxf6 g4 Bxg4 Be2 Bh5 Ng5 Bxe2 Qxe2 b5 Qh5 h6 Nf3 g6 Qg4 h5 Qh3 Qe7 Rg1 Nd7 Nd2 Bxh4 O-O-O Bxf2 Rgf1 Bd4 Ne2 c4 Qf3 f6 b3 cxb3 Nxb3 Bb6 Rg1 g5 Rdf1 O-O-O Qc3+ Kb8 Na5 Bxg1 Rxg1 Qf8 Qc6 Nc5 Qb6+ Ka8 Nc6 Rd7 Na5 Qd8 Qc6+ Kb8 Nc3 Qc7 Qxc7+ Rxc7 a4 b4 Na2 b3 Nb4 bxc2 Nbc6+ Ka8 Kxc2 Nxe4 Rb1 Nc5 Rb6 h4 Nb3 Rb7 Nxc5 dxc5', 'clock': {'initial': 300, 'increment': 0, 'totalTime': 300}}\n",
      "{'id': 'PaUNTipP', 'rated': True, 'variant': 'standard', 'speed': 'blitz', 'perf': 'blitz', 'createdAt': datetime.datetime(2024, 4, 4, 3, 16, 59, 482000, tzinfo=datetime.timezone.utc), 'lastMoveAt': datetime.datetime(2024, 4, 4, 3, 26, 28, 469000, tzinfo=datetime.timezone.utc), 'status': 'mate', 'source': 'pool', 'players': {'white': {'user': {'name': 'victor_shackii5353', 'id': 'victor_shackii5353'}, 'rating': 1994, 'ratingDiff': 6, 'analysis': {'inaccuracy': 4, 'mistake': 1, 'blunder': 1, 'acpl': 33}}, 'black': {'user': {'name': 'drapi', 'id': 'drapi'}, 'rating': 2035, 'ratingDiff': -64, 'provisional': True, 'analysis': {'inaccuracy': 6, 'mistake': 3, 'blunder': 2, 'acpl': 56}}}, 'fullId': 'PaUNTipPufBw', 'winner': 'white', 'opening': {'eco': 'B12', 'name': 'Caro-Kann Defense: Advance Variation, Short Variation', 'ply': 7}, 'moves': 'e4 c6 d4 d5 e5 Bf5 Nf3 e6 c3 c5 a4 Nc6 a5 a6 Qa4 c4 b3 cxb3 Qxb3 Rb8 Qa4 f6 Bxa6 bxa6 Qxc6+ Qd7 Qxd7+ Kxd7 Nbd2 fxe5 Nxe5+ Ke8 O-O Nf6 Ndf3 Bd6 Ng5 Rf8 Re1 Rc8 Bd2 h6 Ngf3 Ne4 Rac1 g5 h3 Bxe5 dxe5 Rc5 Be3 Rxa5 c4 Ke7 cxd5 exd5 Nd4 Be6 Nc6+ Kf7 Nxa5 Rb8 Rc7+ Kg6 Rc6 Kf5 Rxa6 h5 g4+ Kxe5 f3 hxg4 fxe4 gxh3 exd5 Bxd5 Ba7+ Kf4 Bxb8+ Kf3 Rf6+ Kg4 Re5 Kh4 Kh2 g4 Rh6#', 'analysis': [{'eval': 14}, {'eval': 24}, {'eval': 28}, {'eval': 31}, {'eval': 19}, {'eval': 29}, {'eval': 30}, {'eval': 25}, {'eval': 18}, {'eval': 34}, {'eval': 0}, {'eval': 0}, {'eval': -40}, {'eval': -49}, {'eval': -89}, {'eval': 42, 'best': 'f5b1', 'variation': 'Bxb1 Rxb1', 'judgment': {'name': 'Mistake', 'comment': 'Mistake. Bxb1 was best.'}}, {'eval': -60, 'best': 'b1d2', 'variation': 'Nbd2', 'judgment': {'name': 'Inaccuracy', 'comment': 'Inaccuracy. Nbd2 was best.'}}, {'eval': 39, 'best': 'f5b1', 'variation': 'Bxb1 Rxb1 Qxa5 Qxa5 Nxa5 bxc4 dxc4 Nd2 b5 g3 Ne7 Bg2 Nac6 Nf1', 'judgment': {'name': 'Inaccuracy', 'comment': 'Inaccuracy. Bxb1 was best.'}}, {'eval': -26, 'best': 'b1d2', 'variation': 'Nbd2 Ne7', 'judgment': {'name': 'Inaccuracy', 'comment': 'Inaccuracy. Nbd2 was best.'}}, {'eval': 36, 'best': 'c6a5', 'variation': 'Nxa5', 'judgment': {'name': 'Inaccuracy', 'comment': 'Inaccuracy. Nxa5 was best.'}}, {'eval': 33}, {'eval': 75}, {'eval': 0, 'best': 'e5f6', 'variation': 'exf6 gxf6 Nbd2 Rc8 Be2 Bd6 Nh4 Bg6 Ba3 Bxa3 Qxa3 Qe7 Qb2 f5', 'judgment': {'name': 'Inaccuracy', 'comment': 'Inaccuracy. exf6 was best.'}}, {'eval': 0}, {'eval': -2}, {'eval': -4}, {'eval': -14}, {'eval': -13}, {'eval': -14}, {'eval': 218, 'best': 'f5d3', 'variation': 'Bd3 Ba3 Nh6 h3 Bxa3 Rxa3 Rb2 Kd1 Rhb8 Re1 Nf7 Re3 Bc2+ Kc1', 'judgment': {'name': 'Blunder', 'comment': 'Blunder. Bd3 was best.'}}, {'eval': 210}, {'eval': 213}, {'eval': 141, 'best': 'g2g4', 'variation': 'g4', 'judgment': {'name': 'Inaccuracy', 'comment': 'Inaccuracy. g4 was best.'}}, {'eval': 183}, {'eval': 173}, {'eval': 175}, {'eval': 40, 'best': 'c1a3', 'variation': 'Ba3 Bc7 Rfe1 Rb3 Bb4 Rb2 h3 Ne4 Nd3 Rc2 Nc5 Nxc5 dxc5 Kf7', 'judgment': {'name': 'Mistake', 'comment': 'Mistake. Ba3 was best.'}}, {'eval': 126, 'best': 'd6e5', 'variation': 'Bxe5 dxe5 Ne4 Nxe4 Bxe4 f3 Bf5 Be3 Rb3 Bd4 h5 h4 Kf7 Rf2', 'judgment': {'name': 'Inaccuracy', 'comment': 'Inaccuracy. Bxe5 was best.'}}, {'eval': 87}, {'eval': 196, 'best': 'b8b3', 'variation': 'Rb3 c4 Bb4 Re3 Rxe3 fxe3 Ng4 Nxg4 Bxg4 h3 Be2 Ba3 Bxa3 Rxa3', 'judgment': {'name': 'Inaccuracy', 'comment': 'Inaccuracy. Rb3 was best.'}}, {'eval': 22, 'best': 'c1a3', 'variation': 'Ba3 Ke7 Ra2 Bxa3 Rxa3 Rc7 Rb3 h6 Ngf3 Rfc8 Rb6 Rxc3 Rxa6 Kf8', 'judgment': {'name': 'Blunder', 'comment': 'Blunder. Ba3 was best.'}}, {'eval': 23}, {'eval': 20}, {'eval': 34}, {'eval': -4}, {'eval': 17}, {'eval': 8}, {'eval': 18}, {'eval': 20}, {'eval': 173, 'best': 'f8f7', 'variation': 'Rf7 Be3 Nxc3 Nd4 Rc4 g4 Bd3 Kh2 Kd7 h4 Rf8 hxg5 hxg5 Kg3', 'judgment': {'name': 'Mistake', 'comment': 'Mistake. Rf7 was best.'}}, {'eval': 169}, {'eval': 168}, {'eval': 166}, {'eval': 307, 'best': 'e4c5', 'variation': 'Nc5 Bd2', 'judgment': {'name': 'Mistake', 'comment': 'Mistake. Nc5 was best.'}}, {'eval': 295}, {'eval': 450, 'best': 'a5d5', 'variation': 'Rxd5 Nd4 Kd7 f3 Ng3 Kf2 Nh5 g4 Nf4 gxf5 Nd3+ Kf1 Rxf5 Nxf5', 'judgment': {'name': 'Inaccuracy', 'comment': 'Inaccuracy. Rxd5 was best.'}}, {'eval': 437}, {'eval': 541}, {'eval': 541}, {'eval': 537}, {'eval': 529}, {'eval': 587}, {'eval': 580}, {'eval': 604}, {'eval': 580}, {'eval': 620}, {'eval': 616}, {'eval': 661}, {'eval': 594}, {'eval': 730}, {'eval': 574}, {'eval': 621}, {'eval': 542}, {'eval': 704, 'best': 'b8c8', 'variation': 'Rc8 Nc6+ Rxc6 Rxc6 gxh3 Rc5 h2+ Kxh2 Kxe4 Bxg5+ Kd4 Rc6 Bd7 Bf6+', 'judgment': {'name': 'Inaccuracy', 'comment': 'Inaccuracy. Rc8 was best.'}}, {'eval': 547}, {'mate': 17, 'best': 'e5d5', 'variation': 'Kxd5 Rd1+ Ke4 Rxe6+ Kf5 Rc6 Rb2 Rc5+ Ke6 Nc4 Rg2+ Kh1 Kf7 Rd6', 'judgment': {'name': 'Blunder', 'comment': 'Checkmate is now unavoidable. Kxd5 was best.'}}, {'mate': 21}, {'mate': 10}, {'mate': 13}, {'mate': 7}, {'mate': 8}, {'mate': 8}, {'mate': 7}, {'mate': 5}, {'mate': 6}, {'mate': 1}], 'clock': {'initial': 300, 'increment': 0, 'totalTime': 300}}\n",
      "{'id': 'SDSD5PzN', 'rated': True, 'variant': 'standard', 'speed': 'blitz', 'perf': 'blitz', 'createdAt': datetime.datetime(2024, 4, 4, 3, 11, 59, 303000, tzinfo=datetime.timezone.utc), 'lastMoveAt': datetime.datetime(2024, 4, 4, 3, 16, 5, 107000, tzinfo=datetime.timezone.utc), 'status': 'resign', 'source': 'pool', 'players': {'white': {'user': {'name': 'drapi', 'id': 'drapi'}, 'rating': 1959, 'ratingDiff': 76, 'provisional': True, 'analysis': {'inaccuracy': 2, 'mistake': 0, 'blunder': 0, 'acpl': 27}}, 'black': {'user': {'name': 'victor_shackii5353', 'id': 'victor_shackii5353'}, 'rating': 2000, 'ratingDiff': -6, 'analysis': {'inaccuracy': 0, 'mistake': 1, 'blunder': 2, 'acpl': 108}}}, 'fullId': 'SDSD5PzN5QvZ', 'winner': 'white', 'opening': {'eco': 'C47', 'name': 'Four Knights Game', 'ply': 6}, 'moves': 'e4 e5 Nc3 Nf6 Nf3 Nc6 Nd5 Nxe4 d4 exd4 Bd3 f5 Qe2 Nb4 Bg5 Nxd3+ cxd3', 'analysis': [{'eval': 14}, {'eval': 20}, {'eval': 6}, {'eval': 17}, {'eval': 12}, {'eval': 7}, {'eval': -1}, {'eval': 0}, {'eval': 0}, {'eval': -12}, {'eval': -36}, {'eval': 116, 'best': 'e4c5', 'variation': 'Nc5 O-O Ne6 Re1 h6 Bf4 d6 Bg3 Ne7 Nf4', 'judgment': {'name': 'Mistake', 'comment': 'Mistake. Nc5 was best.'}}, {'eval': 36, 'best': 'e1h1', 'variation': 'O-O Be7 Bc4 Bf6 Re1 d6 Nd2 Ne5 Nxe4 fxe4', 'judgment': {'name': 'Inaccuracy', 'comment': 'Inaccuracy. O-O was best.'}}, {'eval': 381, 'best': 'f8e7', 'variation': 'Be7 Bc4 b5 Bb3 a5 Bf4 Ra7 a4 bxa4 Bc4', 'judgment': {'name': 'Blunder', 'comment': 'Blunder. Be7 was best.'}}, {'eval': 271, 'best': 'd3e4', 'variation': 'Bxe4 Be7 Nxe7 Qxe7 Bxf5 Qxe2+ Kxe2 O-O a3 Nc6 Bh3 Rf6 Rd1 b6', 'judgment': {'name': 'Inaccuracy', 'comment': 'Inaccuracy. Bxe4 was best.'}}, {'eval': 619, 'best': 'b4d5', 'variation': 'Nxd5 Bxd8 Nf4 Qd1 Bb4+ Kf1 Kxd8 Bxe4 fxe4 Qxd4 exf3 Qxf4 fxg2+ Kxg2', 'judgment': {'name': 'Blunder', 'comment': 'Blunder. Nxd5 was best.'}}, {'eval': 625}], 'clock': {'initial': 300, 'increment': 0, 'totalTime': 300}}\n",
      "{'id': 'gZJKFgpP', 'rated': True, 'variant': 'standard', 'speed': 'blitz', 'perf': 'blitz', 'createdAt': datetime.datetime(2024, 4, 4, 3, 1, 49, 582000, tzinfo=datetime.timezone.utc), 'lastMoveAt': datetime.datetime(2024, 4, 4, 3, 11, 47, 805000, tzinfo=datetime.timezone.utc), 'status': 'outoftime', 'source': 'pool', 'players': {'white': {'user': {'name': 'YounesMazigh06', 'id': 'younesmazigh06'}, 'rating': 1875, 'ratingDiff': -5}, 'black': {'user': {'name': 'drapi', 'id': 'drapi'}, 'rating': 1875, 'ratingDiff': 84, 'provisional': True}}, 'fullId': 'gZJKFgpPHRNp', 'winner': 'black', 'opening': {'eco': 'A80', 'name': 'Dutch Defense', 'ply': 2}, 'moves': 'd4 f5 Bf4 Nf6 e3 b6 Bg5 Bb7 Bxf6 exf6 Qh5+ g6 Qh3 d6 Nd2 Nd7 O-O-O Qe7 Ngf3 Qe6 Bc4 Bd5 Bxd5 Qxd5 c4 Qa5 Kb1 O-O-O g4 fxg4 Qxg4 f5 Qg2 c5 Ne1 Bg7 Qa8+ Nb8 dxc5 dxc5 Nc2 Rxd2 b4 Rxd1+ Rxd1 Qa4 Qd5 cxb4 Qe6+ Nd7 Nd4 Bxd4 Rxd4 Rd8 Qd5 Kb8 Qd6+ Kb7 Qe7 Kc7 Qd6+ Kc8 Qd5 b3 Qa8+ Nb8 Rxd8+ Kxd8 Qxb8+ Ke7 Qe5+ Kd8 Qd4+ Kc7 Qb2 bxa2+ Qxa2 Qd1+ Kb2 Qd2+ Kb3 Qxa2+ Kxa2 Kc6 Kb3 Kc5 f4 a5 h4 a4+ Kxa4 Kxc4 Ka3 Kc3 Ka4 Kc4 Ka3 b5 Kb2 b4 h5 gxh5 e4 h4 exf5 h3 f6 h2 f7 h1=Q f8=Q Qg2+', 'clock': {'initial': 300, 'increment': 0, 'totalTime': 300}}\n",
      "{'id': 'CsPo5w92', 'rated': True, 'variant': 'standard', 'speed': 'blitz', 'perf': 'blitz', 'createdAt': datetime.datetime(2024, 3, 21, 12, 28, 49, 485000, tzinfo=datetime.timezone.utc), 'lastMoveAt': datetime.datetime(2024, 3, 21, 12, 34, 58, 361000, tzinfo=datetime.timezone.utc), 'status': 'mate', 'source': 'pool', 'players': {'white': {'user': {'name': 'drapi', 'id': 'drapi'}, 'rating': 1766, 'ratingDiff': 109, 'provisional': True, 'analysis': {'inaccuracy': 1, 'mistake': 0, 'blunder': 0, 'acpl': 19}}, 'black': {'user': {'name': 'matiasanu', 'id': 'matiasanu'}, 'rating': 1769, 'ratingDiff': -5, 'analysis': {'inaccuracy': 2, 'mistake': 2, 'blunder': 1, 'acpl': 66}}}, 'fullId': 'CsPo5w92VIZV', 'winner': 'white', 'opening': {'eco': 'B23', 'name': 'Sicilian Defense: Closed', 'ply': 4}, 'moves': 'e4 c5 Nc3 e6 f4 a6 d4 cxd4 Qxd4 Nc6 Qd1 Bb4 Bd2 Nf6 Bd3 d6 Nf3 O-O e5 dxe5 fxe5 Ng4 Bxh7+ Kxh7 Ng5+ Qxg5 Bxg5 Ngxe5 O-O f6 Bh4 b5 a3 Ba5 Ne4 Bb7 Qh5+ Kg8 Nxf6+ gxf6 Bxf6 Nf7 Qg6#', 'analysis': [{'eval': 13}, {'eval': 33}, {'eval': 24}, {'eval': 45}, {'eval': -12, 'best': 'g1f3', 'variation': 'Nf3 Nc6 d4 cxd4 Nxd4 Qc7 g3 a6 Bg2 Nf6', 'judgment': {'name': 'Inaccuracy', 'comment': 'Inaccuracy. Nf3 was best.'}}, {'eval': 0}, {'eval': 0}, {'eval': 0}, {'eval': 0}, {'eval': 12}, {'eval': -27}, {'eval': 8}, {'eval': 15}, {'eval': 30}, {'eval': 23}, {'eval': 65}, {'eval': 64}, {'eval': 79}, {'eval': 51}, {'eval': 49}, {'eval': 65}, {'eval': 149, 'best': 'b4c3', 'variation': 'Bxc3 Bxc3 Nd5 Bd2 Qc7 Qe2 Ncb4 c4 Nxd3+ Qxd3 Ne7 Bb4 Rd8 Bd6', 'judgment': {'name': 'Inaccuracy', 'comment': 'Inaccuracy. Bxc3 was best.'}}, {'eval': 142}, {'eval': 108}, {'eval': 118}, {'eval': 341, 'best': 'h7g8', 'variation': 'Kg8 Qxg4 Qd4 Qh5 Qxe5+ Nce4 Bxd2+ Kxd2 Qf4+ Ke1 Qe3+ Kf1 Qf4+ Kg1', 'judgment': {'name': 'Blunder', 'comment': 'Blunder. Kg8 was best.'}}, {'eval': 336}, {'eval': 350}, {'eval': 311}, {'eval': 345}, {'eval': 300}, {'eval': 358}, {'eval': 295}, {'eval': 367}, {'eval': 337}, {'eval': 598, 'best': 'h7g6', 'variation': 'Kg6 c3 Bc7 Bg3 Bb7 h3 Rad8 Qc2 Kf7 Rad1 Rh8', 'judgment': {'name': 'Mistake', 'comment': 'Mistake. Kg6 was best.'}}, {'eval': 575}, {'eval': 571}, {'eval': 552}, {'eval': 757, 'best': 'f8f6', 'variation': 'Rxf6 Bxf6 Rd8 Bxd8 Bxd8 Qe8+ Kh7 Qxe6 Bf6 Rxf6 gxf6 Kh1 b4 Rf1', 'judgment': {'name': 'Inaccuracy', 'comment': 'Inaccuracy. Rxf6 was best.'}}, {'eval': 732}, {'mate': 1, 'best': 'a5b6', 'variation': 'Bb6+ Kh1 Bc5 Qh8+ Kf7 Bxe5+ Ke8 Rxf8+ Bxf8 Qh5+ Kd8 Rd1+ Nd4 Qf7', 'judgment': {'name': 'Mistake', 'comment': 'Checkmate is now unavoidable. Bb6+ was best.'}}], 'clock': {'initial': 180, 'increment': 2, 'totalTime': 260}}\n",
      "{'id': 'nfxuPA5X', 'rated': True, 'variant': 'standard', 'speed': 'blitz', 'perf': 'blitz', 'createdAt': datetime.datetime(2024, 3, 19, 10, 34, 47, 440000, tzinfo=datetime.timezone.utc), 'lastMoveAt': datetime.datetime(2024, 3, 19, 10, 45, 13, 844000, tzinfo=datetime.timezone.utc), 'status': 'mate', 'source': 'pool', 'players': {'white': {'user': {'name': 'drapi', 'id': 'drapi'}, 'rating': 1896, 'ratingDiff': -130, 'provisional': True, 'analysis': {'inaccuracy': 4, 'mistake': 6, 'blunder': 12, 'acpl': 96}}, 'black': {'user': {'name': 'Loekoeloek', 'id': 'loekoeloek'}, 'rating': 1952, 'ratingDiff': 4, 'analysis': {'inaccuracy': 6, 'mistake': 1, 'blunder': 10, 'acpl': 85}}}, 'fullId': 'nfxuPA5XAapT', 'winner': 'black', 'opening': {'eco': 'B23', 'name': 'Sicilian Defense: Grand Prix Attack', 'ply': 5}, 'moves': 'e4 c5 Nc3 Nc6 f4 Nf6 Nf3 g6 Bc4 Bg7 d3 O-O h4 h5 Ng5 d6 Be3 Bg4 Qd2 Nd4 Bxd4 cxd4 Nd5 Nxd5 Bxd5 Qb6 b3 Rac8 f5 gxf5 exf5 Bxf5 Qf4 Bg6 O-O e6 Nxe6 fxe6 Bxe6+ Kh7 Qg5 Rxf1+ Rxf1 Qc5 Qe7 Rc7 Qd8 Qxc2 Bg8+ Kh8 b4 Be5 Bb3+ Kg7 Bxc2 Rxc2 Qf8+ Kh7 Qe7+ Bg7 Qxd6 Bxd3 Qg3 Be4 Rf2 d3 Rxc2 dxc2 Qe1 Bg6 g4 Bb2 Qe7+ Bg7 gxh5 Bxh5 Qe1 Bg6 Kf2 Bd4+ Kf3 Bh5+ Ke4 Bd1 Kxd4 c1=Q Qe7+ Kg6 Qe6+ Kh5 Qf5+ Kxh4 Qe4+ Bg4 Qh7+ Kg3 Qd3+ Bf3 Qg6+ Kf2 Qd3 Qd1 Qxd1 Bxd1 Kc4 Bf3 a3 Ke3 Kc5 Kd3 a4 Kc3 b5 Kb3 a5 Ka4 b6 a6 Kd6 Kxa5 Kc7 Bc6 Kd6 Kxb6 Ke5 Kb5 Kd4 Kb4 Kd3 Kb3 Kd2 Kb2 Kd1 a5 Kd2 a4 Kd3 a3 Kd2 a2 Kd3 a1=Q Kd2 Qa3 Kd1 Qc3 Ke2 Kb3 Kd1 Kc4 Ke2 Kd4 Kd1 Qb2 Ke1 Ke3 Kf1 Qf2#', 'analysis': [{'eval': 13}, {'eval': 33}, {'eval': 24}, {'eval': 41}, {'eval': -21, 'best': 'g1f3', 'variation': 'Nf3 e5 Bc4 Be7 d3 Nf6 Nd2 d6 Nf1 Bg4', 'judgment': {'name': 'Inaccuracy', 'comment': 'Inaccuracy. Nf3 was best.'}}, {'eval': 37, 'best': 'g7g6', 'variation': 'g6 Nf3 Bg7 a4 b6 Bc4 e6 Nb5 d5 exd5', 'judgment': {'name': 'Inaccuracy', 'comment': 'Inaccuracy. g6 was best.'}}, {'eval': 4}, {'eval': 51}, {'eval': 9}, {'eval': 50}, {'eval': 0}, {'eval': 0}, {'eval': -44}, {'eval': -27}, {'eval': -160, 'best': 'f4f5', 'variation': 'f5 gxf5 Bg5 Ng4 O-O b5 Nxb5 d6 a4 Rb8', 'judgment': {'name': 'Mistake', 'comment': 'Mistake. f5 was best.'}}, {'eval': -110}, {'eval': -173, 'best': 'f4f5', 'variation': 'f5 gxf5 Nd5 Ng4 Nf4 Nce5 Qe2 d5 Bxd5 e6 Bb3 b5 exf5 exf5', 'judgment': {'name': 'Inaccuracy', 'comment': 'Inaccuracy. f5 was best.'}}, {'eval': -98, 'best': 'e7e6', 'variation': 'e6 Qd2 Ng4 Nd1 d5 Bb3 b6 e5 f6 exf6 Qxf6 O-O Nd4 Ba4', 'judgment': {'name': 'Inaccuracy', 'comment': 'Inaccuracy. e6 was best.'}}, {'eval': -97}, {'eval': -55}, {'eval': -113, 'best': 'e1h1', 'variation': 'O-O e6 a4 Rc8 a5 d5 Ba2 Qd7 Qf2 Rfd8 Kh1 b5 axb6 axb6', 'judgment': {'name': 'Inaccuracy', 'comment': 'Inaccuracy. O-O was best.'}}, {'eval': -113}, {'eval': -240, 'best': 'c3e2', 'variation': 'Ne2 e6 Nxd4 d5 Bb3 dxe4 dxe4 Nxe4 Nxe4 Bxd4 c3 Bg7 Qxd8 Raxd8', 'judgment': {'name': 'Mistake', 'comment': 'Mistake. Ne2 was best.'}}, {'eval': -48, 'best': 'f6h7', 'variation': 'Nh7', 'judgment': {'name': 'Blunder', 'comment': 'Blunder. Nh7 was best.'}}, {'eval': -50}, {'eval': -39}, {'eval': -303, 'best': 'e1h1', 'variation': 'O-O', 'judgment': {'name': 'Blunder', 'comment': 'Blunder. O-O was best.'}}, {'eval': -91, 'best': 'e7e6', 'variation': 'e6 Bc4 d5 exd5 exd5 Bxd5 Rae8+ Kf1 Re2 Qd1 Rf2+ Kxf2 Bxd1 Rhxd1', 'judgment': {'name': 'Blunder', 'comment': 'Blunder. e6 was best.'}}, {'eval': -261, 'best': 'b3b4', 'variation': 'b4', 'judgment': {'name': 'Mistake', 'comment': 'Mistake. b4 was best.'}}, {'eval': -232}, {'eval': -288}, {'eval': 208, 'best': 'b6c5', 'variation': 'Qc5 Bf3 Qe5+ Kd1 Qxf5 Re1 Rc7 Re4 Bxf3+ Nxf3 Rfc8 Rc1 d5 Re2', 'judgment': {'name': 'Blunder', 'comment': 'Blunder. Qc5 was best.'}}, {'eval': -447, 'best': 'e1h1', 'variation': 'O-O Bg6 Nxf7 Qc5 Qg5 Bxf7 Rxf7 Rxf7 Rf1 e6 Rxf7 Kxf7 Qf5+ Kg8', 'judgment': {'name': 'Blunder', 'comment': 'Blunder. O-O was best.'}}, {'eval': -123, 'best': 'b6a5', 'variation': 'Qa5+ Qd2 Qxd5 O-O f6 Nf3 Bh7 Rae1 e5 Nh2 e4 dxe4 Qc5 b4', 'judgment': {'name': 'Blunder', 'comment': 'Blunder. Qa5+ was best.'}}, {'eval': -132}, {'eval': -100}, {'eval': -389, 'best': 'd5e4', 'variation': 'Be4 d5 Bxg6 fxg6 Qh2 Qc6 g4 hxg4 Qe2 Rxf1+ Rxf1 Qd6 Qxg4 Rxc2', 'judgment': {'name': 'Blunder', 'comment': 'Blunder. Be4 was best.'}}, {'eval': -382}, {'eval': -371}, {'eval': -365}, {'eval': -424}, {'eval': -172, 'best': 'c8c5', 'variation': 'Rc5 Bd5 Qd8 Qxd8 Rxd8 Bxb7 Re8 Rf2 Bh6 Rf6 Re7 Ba8 Bd2 Raf1', 'judgment': {'name': 'Blunder', 'comment': 'Blunder. Rc5 was best.'}}, {'eval': -175}, {'eval': -46, 'best': 'b6d8', 'variation': 'Qd8 Bxc8 Qxc8 Rf2 Qe8 Kf1 Qe5 Qf4 Qxf4 Rxf4 Kg8 Rf3 Be5 b4', 'judgment': {'name': 'Mistake', 'comment': 'Mistake. Qd8 was best.'}}, {'eval': -439, 'best': 'e6f5', 'variation': 'Bf5', 'judgment': {'name': 'Blunder', 'comment': 'Blunder. Bf5 was best.'}}, {'eval': -105, 'best': 'c8e8', 'variation': 'Re8 Qd7 Qe5 Bf5 Re7 Bxg6+ Kxg6 Qd8 Rf7 Rxf7 Kxf7 Qc7+ Kg6 Kf1', 'judgment': {'name': 'Blunder', 'comment': 'Blunder. Re8 was best.'}}, {'eval': -99}, {'eval': 0, 'best': 'c7c6', 'variation': 'Rc6 Re1 a5 Re2 Kh6 Bd7 Rc7 Re6 Kh7 Rxg6 Rxd7 Qxd7 Kxg6 Qe8+', 'judgment': {'name': 'Inaccuracy', 'comment': 'Inaccuracy. Rc6 was best.'}}, {'eval': 0}, {'eval': 0}, {'eval': -438, 'best': 'g8c4', 'variation': 'Bc4+ Kh7 Bg8+ Kh8', 'judgment': {'name': 'Blunder', 'comment': 'Blunder. Bc4+ was best.'}}, {'mate': 3, 'best': 'c7c8', 'variation': 'Rc8 Qg5 Qxd3 Be6 Ra8 Bf5 Bxf5 Rxf5 Qd1+ Kf2 Qg4 Qxh5+ Qxh5 Rxh5+', 'judgment': {'name': 'Blunder', 'comment': 'Checkmate is now unavoidable. Rc8 was best.'}}, {'eval': 405, 'best': 'g8f7', 'variation': 'Bf7+ Kh7 Qg8+ Kh6 Qxg6#', 'judgment': {'name': 'Blunder', 'comment': 'Lost forced checkmate sequence. Bf7+ was best.'}}, {'mate': 5, 'best': 'h8h7', 'variation': 'Kh7 Qg8+ Kh6 Bxc2 Rxc2 Re1 Rc7 Rxe5 dxe5 Qh8+ Rh7 Qxe5 Rg7 Qxd4', 'judgment': {'name': 'Blunder', 'comment': 'Checkmate is now unavoidable. Kh7 was best.'}}, {'eval': 613, 'best': 'd8f8', 'variation': 'Qf8+ Kh7 Bg8+ Kh8 Bf7+ Kh7 Qg8+ Kh6 Qxg6#', 'judgment': {'name': 'Blunder', 'comment': 'Lost forced checkmate sequence. Qf8+ was best.'}}, {'eval': 883, 'best': 'c7f7', 'variation': 'Rf7 Rxf7+ Bxf7 Bb3 Bxb3 Qg5+ Kf8 axb3 Bg7 Qf5+ Kg8 Qd5+ Kf8 Qxd6+', 'judgment': {'name': 'Inaccuracy', 'comment': 'Inaccuracy. Rf7 was best.'}}, {'eval': 493, 'best': 'd8e7', 'variation': 'Qe7+ Kh6 g4 hxg4 Qg5+ Kh7 h5 Be8 Qe7+ Kh6 Qxe8 Kg5 Qd8+ Kh6', 'judgment': {'name': 'Mistake', 'comment': 'Mistake. Qe7+ was best.'}}, {'eval': 479}, {'eval': 476}, {'eval': 476}, {'eval': 421}, {'eval': 572, 'best': 'c2e2', 'variation': 'Re2 Qd7 b6 Rf7 Bxf7 Qxf7 Re5 Qxa7 b5 Qf7 Kh6 Kf2 Bh8 g3', 'judgment': {'name': 'Inaccuracy', 'comment': 'Inaccuracy. Re2 was best.'}}, {'eval': 316, 'best': 'f1f7', 'variation': 'Rf7 Bg6 Re7 Be4 Rxg7+ Kxg7 Qxd4+ Kf7 Qxe4 Rc6 Qe5 Rb6 Qxh5+ Ke7', 'judgment': {'name': 'Mistake', 'comment': 'Mistake. Rf7 was best.'}}, {'eval': 455, 'best': 'd3f1', 'variation': 'Bxf1 Kxf1 Rc1+ Kf2 Rc2+ Kg1 Rc1+ Kh2 Bf6 Qf4 Rc6 b5 Rb6 Kh3', 'judgment': {'name': 'Inaccuracy', 'comment': 'Inaccuracy. Bxf1 was best.'}}, {'eval': 366}, {'eval': 378}, {'eval': 0, 'best': 'g3e3', 'variation': 'Qe3 Bg6 g4 Rxf2 Kxf2 Kh8 Qg5 Bh7 Qd8+ Bg8 b5 d2 Qxd2 Bf7', 'judgment': {'name': 'Blunder', 'comment': 'Blunder. Qe3 was best.'}}, {'eval': 0}, {'eval': 0}, {'eval': 0}, {'eval': 0}, {'eval': 0}, {'eval': 0}, {'eval': 0}, {'eval': -809, 'best': 'e7c7', 'variation': 'Qc7 hxg4 Kf2 Kh6 Qf4+ Kh7', 'judgment': {'name': 'Blunder', 'comment': 'Blunder. Qc7 was best.'}}, {'eval': 0, 'best': 'c2c1q', 'variation': 'c1=Q+ Kg2 Qc2+ Kg3 Be4 Qxg7+ Kxg7 Kf4 Qd3 a3 Kh6 Ke5 a5 bxa5', 'judgment': {'name': 'Blunder', 'comment': 'Blunder. c1=Q+ was best.'}}, {'eval': 0}, {'eval': 0}, {'eval': 0}, {'eval': 0}, {'eval': 0}, {'eval': 0}, {'eval': -465, 'best': 'f3g3', 'variation': 'Kg3 Bg7 Qd2 Bd1 h5 Be5+ Kh4 Bf6+ Kg3', 'judgment': {'name': 'Blunder', 'comment': 'Blunder. Kg3 was best.'}}, {'eval': 0, 'best': 'd4b2', 'variation': 'Bb2 a4 c1=Q Qxc1 Bxc1 a5 Kg6 Ke5 Bg4 a6 b6 b5 Ba3 Kd5', 'judgment': {'name': 'Blunder', 'comment': 'Blunder. Bb2 was best.'}}, {'eval': 0}, {'eval': 0}, {'eval': 0}, {'eval': 0}, {'eval': -5}, {'eval': -8}, {'eval': -58}, {'eval': -69}, {'eval': -78}, {'eval': -46}, {'eval': -229, 'best': 'e4b7', 'variation': 'Qxb7', 'judgment': {'name': 'Blunder', 'comment': 'Blunder. Qxb7 was best.'}}, {'eval': -241}, {'eval': -508, 'best': 'h7b7', 'variation': 'Qxb7 Qa1+', 'judgment': {'name': 'Blunder', 'comment': 'Blunder. Qxb7 was best.'}}, {'eval': -506}, {'eval': -569}, {'eval': -531}, {'eval': -566}, {'eval': -543}, {'eval': -508}, {'eval': -605}, {'eval': -607}, {'eval': -552}, {'eval': -625}, {'eval': -549}, {'eval': -792, 'best': 'c4c3', 'variation': 'Kc3 Be2 Kc2 Kd4 Kd2 Bd1 Ke1 Kc4 Kd2 Ba4 Ke2 Kb3 Kd2 a6', 'judgment': {'name': 'Inaccuracy', 'comment': 'Inaccuracy. Kc3 was best.'}}, {'eval': -766}, {'eval': -792}, {'eval': -793}, {'eval': -739}, {'eval': -756}, {'eval': -793}, {'eval': -773}, {'eval': -854}, {'eval': -846}, {'mate': -24, 'best': 'c5c4', 'variation': 'Kc4 Kxa5 Kb3 Bd5+ Ka3 Kb5 Kb2 Kb4 Kc1 Bc6 Kc2 a5 Kb2 a4', 'judgment': {'name': 'Mistake', 'comment': 'Checkmate is now unavoidable. Kc4 was best.'}}, {'mate': -23}, {'mate': -18}, {'mate': -17}, {'mate': -18}, {'mate': -16}, {'mate': -16}, {'mate': -15}, {'mate': -15}, {'mate': -14}, {'mate': -14}, {'mate': -13}, {'mate': -13}, {'mate': -12}, {'mate': -12}, {'mate': -11}, {'mate': -11}, {'mate': -10}, {'mate': -10}, {'mate': -9}, {'mate': -11}, {'mate': -10}, {'mate': -6}, {'mate': -5}, {'mate': -4}, {'mate': -3}, {'mate': -3}, {'mate': -3}, {'mate': -3}, {'mate': -3}, {'mate': -1}, {'mate': -4}, {'mate': -4}, {'mate': -3}, {'mate': -1}, {'mate': -2}, {'mate': -2}, {'mate': -1}, {'mate': -1}], 'clock': {'initial': 180, 'increment': 2, 'totalTime': 260}}\n",
      "{'id': '8TotAlGV', 'rated': True, 'variant': 'standard', 'speed': 'blitz', 'perf': 'blitz', 'createdAt': datetime.datetime(2024, 3, 19, 8, 14, 50, 340000, tzinfo=datetime.timezone.utc), 'lastMoveAt': datetime.datetime(2024, 3, 19, 8, 17, 21, 680000, tzinfo=datetime.timezone.utc), 'status': 'resign', 'source': 'pool', 'players': {'white': {'user': {'name': 'aenye505', 'id': 'aenye505'}, 'rating': 1670, 'ratingDiff': -4, 'analysis': {'inaccuracy': 5, 'mistake': 0, 'blunder': 1, 'acpl': 45}}, 'black': {'user': {'name': 'drapi', 'id': 'drapi'}, 'rating': 1500, 'ratingDiff': 396, 'provisional': True, 'analysis': {'inaccuracy': 3, 'mistake': 0, 'blunder': 0, 'acpl': 20}}}, 'fullId': '8TotAlGValRa', 'winner': 'black', 'opening': {'eco': 'B10', 'name': 'Caro-Kann Defense', 'ply': 2}, 'moves': 'e4 c6 Nf3 d5 e5 Bg4 d4 e6 Be2 c5 h3 Bh5 g4 Bg6 Bd3 Bxd3 Qxd3 Nc6 Be3 c4 Qe2 Qb6 b3 cxb3 axb3 Nge7 Nc3 Ng6 h4 Bb4 Bd2 Nxd4 Nxd4 Qxd4 h5 Bxc3 hxg6 Bxd2+ Qxd2 Qxa1+ Qd1 Qxd1+ Kxd1 fxg6 Kd2 Rf8', 'analysis': [{'eval': 13}, {'eval': 24}, {'eval': 26}, {'eval': 37}, {'eval': 15}, {'eval': 0}, {'eval': 34}, {'eval': 28}, {'eval': 0}, {'eval': 0}, {'eval': -92, 'best': 'c2c4', 'variation': 'c4 Nc6 cxd5 Qxd5 Nc3 Qd7 Be3 Bxf3 Bxf3 Nxd4', 'judgment': {'name': 'Inaccuracy', 'comment': 'Inaccuracy. c4 was best.'}}, {'eval': 17, 'best': 'g4f3', 'variation': 'Bxf3 Bxf3 cxd4 Qxd4 Ne7 Nd2 Nec6 Qa4 Nd7 O-O', 'judgment': {'name': 'Inaccuracy', 'comment': 'Inaccuracy. Bxf3 was best.'}}, {'eval': -65, 'best': 'c2c4', 'variation': 'c4 cxd4 Nxd4 Bxe2 Qxe2 Nc6 Nxc6 bxc6 Nd2 Ne7', 'judgment': {'name': 'Inaccuracy', 'comment': 'Inaccuracy. c4 was best.'}}, {'eval': -49}, {'eval': -89}, {'eval': -85}, {'eval': -85}, {'eval': -79}, {'eval': -117}, {'eval': -35, 'best': 'h7h5', 'variation': 'h5 Rf1 Qb6 Nc3 hxg4 hxg4 Rh3 Ng1 cxd4 Nxh3 dxe3 O-O-O Nxe5 Qxe3', 'judgment': {'name': 'Inaccuracy', 'comment': 'Inaccuracy. h5 was best.'}}, {'eval': -48}, {'eval': -13}, {'eval': -58}, {'eval': 0, 'best': 'h7h5', 'variation': 'h5', 'judgment': {'name': 'Inaccuracy', 'comment': 'Inaccuracy. h5 was best.'}}, {'eval': 1}, {'eval': 16}, {'eval': 16}, {'eval': 16}, {'eval': -68, 'best': 'e1f1', 'variation': 'Kf1 h5', 'judgment': {'name': 'Inaccuracy', 'comment': 'Inaccuracy. Kf1 was best.'}}, {'eval': -64}, {'eval': -156, 'best': 'e2d3', 'variation': 'Qd3 h5', 'judgment': {'name': 'Inaccuracy', 'comment': 'Inaccuracy. Qd3 was best.'}}, {'eval': -166}, {'eval': -155}, {'eval': -112}, {'eval': -406, 'best': 'e2b5', 'variation': 'Qb5+ Kf8', 'judgment': {'name': 'Blunder', 'comment': 'Blunder. Qb5+ was best.'}}, {'eval': -414}, {'eval': -526, 'best': 'e2b5', 'variation': 'Qb5+ Kd8 Kf1 Bxd2 Ra4 a6 Qxb7 Qa7 Qxa7 Rxa7 hxg6 fxg6 b4 Bf4', 'judgment': {'name': 'Inaccuracy', 'comment': 'Inaccuracy. Qb5+ was best.'}}, {'eval': -521}, {'eval': -587}, {'eval': -584}, {'eval': -583}, {'eval': -587}, {'eval': -580}, {'eval': -578}, {'eval': -596}, {'eval': -533}], 'clock': {'initial': 180, 'increment': 0, 'totalTime': 180}}\n"
     ]
    }
   ],
   "source": [
    "def get_game_history(username, max_games=10):\n",
    "    try:\n",
    "        game_history = client.games.export_by_player(username, max=max_games, evals=True, opening=True)\n",
    "        return list(game_history)  \n",
    "    except berserk.exceptions.ResponseError as e:\n",
    "        print(f\"Error: {e}\")\n",
    "        return None\n",
    "\n",
    "# Example usage\n",
    "username = 'drapi'\n",
    "game_history = get_game_history(username)\n",
    "if game_history:\n",
    "    for game in game_history:\n",
    "        print(game)  "
   ]
  },
  {
   "cell_type": "code",
   "execution_count": null,
   "metadata": {},
   "outputs": [
    {
     "data": {
      "text/plain": [
       "87"
      ]
     },
     "execution_count": 15,
     "metadata": {},
     "output_type": "execute_result"
    }
   ],
   "source": [
    "total_moves = str(game_history[1]['moves']).split(\" \")\n",
    "len(total_moves) #79"
   ]
  },
  {
   "cell_type": "code",
   "execution_count": null,
   "metadata": {},
   "outputs": [
    {
     "data": {
      "text/plain": [
       "'c6'"
      ]
     },
     "execution_count": 16,
     "metadata": {},
     "output_type": "execute_result"
    }
   ],
   "source": [
    "total_moves[1]"
   ]
  },
  {
   "cell_type": "code",
   "execution_count": null,
   "metadata": {},
   "outputs": [
    {
     "data": {
      "text/plain": [
       "{'eval': 19}"
      ]
     },
     "execution_count": 17,
     "metadata": {},
     "output_type": "execute_result"
    }
   ],
   "source": [
    "len(game_history[1][\"analysis\"])\n",
    "game_history[1][\"analysis\"][4]"
   ]
  },
  {
   "cell_type": "code",
   "execution_count": null,
   "metadata": {},
   "outputs": [
    {
     "data": {
      "text/plain": [
       "{'id': 'PaUNTipP',\n",
       " 'rated': True,\n",
       " 'variant': 'standard',\n",
       " 'speed': 'blitz',\n",
       " 'perf': 'blitz',\n",
       " 'createdAt': datetime.datetime(2024, 4, 4, 3, 16, 59, 482000, tzinfo=datetime.timezone.utc),\n",
       " 'lastMoveAt': datetime.datetime(2024, 4, 4, 3, 26, 28, 469000, tzinfo=datetime.timezone.utc),\n",
       " 'status': 'mate',\n",
       " 'source': 'pool',\n",
       " 'players': {'white': {'user': {'name': 'victor_shackii5353',\n",
       "    'id': 'victor_shackii5353'},\n",
       "   'rating': 1994,\n",
       "   'ratingDiff': 6,\n",
       "   'analysis': {'inaccuracy': 4, 'mistake': 1, 'blunder': 1, 'acpl': 33}},\n",
       "  'black': {'user': {'name': 'drapi', 'id': 'drapi'},\n",
       "   'rating': 2035,\n",
       "   'ratingDiff': -64,\n",
       "   'provisional': True,\n",
       "   'analysis': {'inaccuracy': 6, 'mistake': 3, 'blunder': 2, 'acpl': 56}}},\n",
       " 'fullId': 'PaUNTipPufBw',\n",
       " 'winner': 'white',\n",
       " 'moves': 'e4 c6 d4 d5 e5 Bf5 Nf3 e6 c3 c5 a4 Nc6 a5 a6 Qa4 c4 b3 cxb3 Qxb3 Rb8 Qa4 f6 Bxa6 bxa6 Qxc6+ Qd7 Qxd7+ Kxd7 Nbd2 fxe5 Nxe5+ Ke8 O-O Nf6 Ndf3 Bd6 Ng5 Rf8 Re1 Rc8 Bd2 h6 Ngf3 Ne4 Rac1 g5 h3 Bxe5 dxe5 Rc5 Be3 Rxa5 c4 Ke7 cxd5 exd5 Nd4 Be6 Nc6+ Kf7 Nxa5 Rb8 Rc7+ Kg6 Rc6 Kf5 Rxa6 h5 g4+ Kxe5 f3 hxg4 fxe4 gxh3 exd5 Bxd5 Ba7+ Kf4 Bxb8+ Kf3 Rf6+ Kg4 Re5 Kh4 Kh2 g4 Rh6#',\n",
       " 'analysis': [{'eval': 14},\n",
       "  {'eval': 24},\n",
       "  {'eval': 28},\n",
       "  {'eval': 31},\n",
       "  {'eval': 19},\n",
       "  {'eval': 29},\n",
       "  {'eval': 30},\n",
       "  {'eval': 25},\n",
       "  {'eval': 18},\n",
       "  {'eval': 34},\n",
       "  {'eval': 0},\n",
       "  {'eval': 0},\n",
       "  {'eval': -40},\n",
       "  {'eval': -49},\n",
       "  {'eval': -89},\n",
       "  {'eval': 42,\n",
       "   'best': 'f5b1',\n",
       "   'variation': 'Bxb1 Rxb1',\n",
       "   'judgment': {'name': 'Mistake', 'comment': 'Mistake. Bxb1 was best.'}},\n",
       "  {'eval': -60,\n",
       "   'best': 'b1d2',\n",
       "   'variation': 'Nbd2',\n",
       "   'judgment': {'name': 'Inaccuracy',\n",
       "    'comment': 'Inaccuracy. Nbd2 was best.'}},\n",
       "  {'eval': 39,\n",
       "   'best': 'f5b1',\n",
       "   'variation': 'Bxb1 Rxb1 Qxa5 Qxa5 Nxa5 bxc4 dxc4 Nd2 b5 g3 Ne7 Bg2 Nac6 Nf1',\n",
       "   'judgment': {'name': 'Inaccuracy',\n",
       "    'comment': 'Inaccuracy. Bxb1 was best.'}},\n",
       "  {'eval': -26,\n",
       "   'best': 'b1d2',\n",
       "   'variation': 'Nbd2 Ne7',\n",
       "   'judgment': {'name': 'Inaccuracy',\n",
       "    'comment': 'Inaccuracy. Nbd2 was best.'}},\n",
       "  {'eval': 36,\n",
       "   'best': 'c6a5',\n",
       "   'variation': 'Nxa5',\n",
       "   'judgment': {'name': 'Inaccuracy',\n",
       "    'comment': 'Inaccuracy. Nxa5 was best.'}},\n",
       "  {'eval': 33},\n",
       "  {'eval': 75},\n",
       "  {'eval': 0,\n",
       "   'best': 'e5f6',\n",
       "   'variation': 'exf6 gxf6 Nbd2 Rc8 Be2 Bd6 Nh4 Bg6 Ba3 Bxa3 Qxa3 Qe7 Qb2 f5',\n",
       "   'judgment': {'name': 'Inaccuracy',\n",
       "    'comment': 'Inaccuracy. exf6 was best.'}},\n",
       "  {'eval': 0},\n",
       "  {'eval': -2},\n",
       "  {'eval': -4},\n",
       "  {'eval': -14},\n",
       "  {'eval': -13},\n",
       "  {'eval': -14},\n",
       "  {'eval': 218,\n",
       "   'best': 'f5d3',\n",
       "   'variation': 'Bd3 Ba3 Nh6 h3 Bxa3 Rxa3 Rb2 Kd1 Rhb8 Re1 Nf7 Re3 Bc2+ Kc1',\n",
       "   'judgment': {'name': 'Blunder', 'comment': 'Blunder. Bd3 was best.'}},\n",
       "  {'eval': 210},\n",
       "  {'eval': 213},\n",
       "  {'eval': 141,\n",
       "   'best': 'g2g4',\n",
       "   'variation': 'g4',\n",
       "   'judgment': {'name': 'Inaccuracy', 'comment': 'Inaccuracy. g4 was best.'}},\n",
       "  {'eval': 183},\n",
       "  {'eval': 173},\n",
       "  {'eval': 175},\n",
       "  {'eval': 40,\n",
       "   'best': 'c1a3',\n",
       "   'variation': 'Ba3 Bc7 Rfe1 Rb3 Bb4 Rb2 h3 Ne4 Nd3 Rc2 Nc5 Nxc5 dxc5 Kf7',\n",
       "   'judgment': {'name': 'Mistake', 'comment': 'Mistake. Ba3 was best.'}},\n",
       "  {'eval': 126,\n",
       "   'best': 'd6e5',\n",
       "   'variation': 'Bxe5 dxe5 Ne4 Nxe4 Bxe4 f3 Bf5 Be3 Rb3 Bd4 h5 h4 Kf7 Rf2',\n",
       "   'judgment': {'name': 'Inaccuracy',\n",
       "    'comment': 'Inaccuracy. Bxe5 was best.'}},\n",
       "  {'eval': 87},\n",
       "  {'eval': 196,\n",
       "   'best': 'b8b3',\n",
       "   'variation': 'Rb3 c4 Bb4 Re3 Rxe3 fxe3 Ng4 Nxg4 Bxg4 h3 Be2 Ba3 Bxa3 Rxa3',\n",
       "   'judgment': {'name': 'Inaccuracy', 'comment': 'Inaccuracy. Rb3 was best.'}},\n",
       "  {'eval': 22,\n",
       "   'best': 'c1a3',\n",
       "   'variation': 'Ba3 Ke7 Ra2 Bxa3 Rxa3 Rc7 Rb3 h6 Ngf3 Rfc8 Rb6 Rxc3 Rxa6 Kf8',\n",
       "   'judgment': {'name': 'Blunder', 'comment': 'Blunder. Ba3 was best.'}},\n",
       "  {'eval': 23},\n",
       "  {'eval': 20},\n",
       "  {'eval': 34},\n",
       "  {'eval': -4},\n",
       "  {'eval': 17},\n",
       "  {'eval': 8},\n",
       "  {'eval': 18},\n",
       "  {'eval': 20},\n",
       "  {'eval': 173,\n",
       "   'best': 'f8f7',\n",
       "   'variation': 'Rf7 Be3 Nxc3 Nd4 Rc4 g4 Bd3 Kh2 Kd7 h4 Rf8 hxg5 hxg5 Kg3',\n",
       "   'judgment': {'name': 'Mistake', 'comment': 'Mistake. Rf7 was best.'}},\n",
       "  {'eval': 169},\n",
       "  {'eval': 168},\n",
       "  {'eval': 166},\n",
       "  {'eval': 307,\n",
       "   'best': 'e4c5',\n",
       "   'variation': 'Nc5 Bd2',\n",
       "   'judgment': {'name': 'Mistake', 'comment': 'Mistake. Nc5 was best.'}},\n",
       "  {'eval': 295},\n",
       "  {'eval': 450,\n",
       "   'best': 'a5d5',\n",
       "   'variation': 'Rxd5 Nd4 Kd7 f3 Ng3 Kf2 Nh5 g4 Nf4 gxf5 Nd3+ Kf1 Rxf5 Nxf5',\n",
       "   'judgment': {'name': 'Inaccuracy',\n",
       "    'comment': 'Inaccuracy. Rxd5 was best.'}},\n",
       "  {'eval': 437},\n",
       "  {'eval': 541},\n",
       "  {'eval': 541},\n",
       "  {'eval': 537},\n",
       "  {'eval': 529},\n",
       "  {'eval': 587},\n",
       "  {'eval': 580},\n",
       "  {'eval': 604},\n",
       "  {'eval': 580},\n",
       "  {'eval': 620},\n",
       "  {'eval': 616},\n",
       "  {'eval': 661},\n",
       "  {'eval': 594},\n",
       "  {'eval': 730},\n",
       "  {'eval': 574},\n",
       "  {'eval': 621},\n",
       "  {'eval': 542},\n",
       "  {'eval': 704,\n",
       "   'best': 'b8c8',\n",
       "   'variation': 'Rc8 Nc6+ Rxc6 Rxc6 gxh3 Rc5 h2+ Kxh2 Kxe4 Bxg5+ Kd4 Rc6 Bd7 Bf6+',\n",
       "   'judgment': {'name': 'Inaccuracy', 'comment': 'Inaccuracy. Rc8 was best.'}},\n",
       "  {'eval': 547},\n",
       "  {'mate': 17,\n",
       "   'best': 'e5d5',\n",
       "   'variation': 'Kxd5 Rd1+ Ke4 Rxe6+ Kf5 Rc6 Rb2 Rc5+ Ke6 Nc4 Rg2+ Kh1 Kf7 Rd6',\n",
       "   'judgment': {'name': 'Blunder',\n",
       "    'comment': 'Checkmate is now unavoidable. Kxd5 was best.'}},\n",
       "  {'mate': 21},\n",
       "  {'mate': 10},\n",
       "  {'mate': 13},\n",
       "  {'mate': 7},\n",
       "  {'mate': 8},\n",
       "  {'mate': 8},\n",
       "  {'mate': 7},\n",
       "  {'mate': 5},\n",
       "  {'mate': 6},\n",
       "  {'mate': 1}],\n",
       " 'clock': {'initial': 300, 'increment': 0, 'totalTime': 300}}"
      ]
     },
     "execution_count": 18,
     "metadata": {},
     "output_type": "execute_result"
    }
   ],
   "source": [
    "game_history[1]"
   ]
  },
  {
   "cell_type": "code",
   "execution_count": null,
   "metadata": {},
   "outputs": [
    {
     "name": "stdout",
     "output_type": "stream",
     "text": [
      "[{'eval': 14}, {'eval': 24}, {'eval': 28}, {'eval': 31}, {'eval': 19}, {'eval': 29}, {'eval': 30}, {'eval': 25}, {'eval': 18}, {'eval': 34}, {'eval': 0}, {'eval': 0}, {'eval': -40}, {'eval': -49}, {'eval': -89}, {'eval': 42, 'best': 'f5b1', 'variation': 'Bxb1 Rxb1', 'judgment': {'name': 'Mistake', 'comment': 'Mistake. Bxb1 was best.'}}, {'eval': -60, 'best': 'b1d2', 'variation': 'Nbd2', 'judgment': {'name': 'Inaccuracy', 'comment': 'Inaccuracy. Nbd2 was best.'}}, {'eval': 39, 'best': 'f5b1', 'variation': 'Bxb1 Rxb1 Qxa5 Qxa5 Nxa5 bxc4 dxc4 Nd2 b5 g3 Ne7 Bg2 Nac6 Nf1', 'judgment': {'name': 'Inaccuracy', 'comment': 'Inaccuracy. Bxb1 was best.'}}, {'eval': -26, 'best': 'b1d2', 'variation': 'Nbd2 Ne7', 'judgment': {'name': 'Inaccuracy', 'comment': 'Inaccuracy. Nbd2 was best.'}}, {'eval': 36, 'best': 'c6a5', 'variation': 'Nxa5', 'judgment': {'name': 'Inaccuracy', 'comment': 'Inaccuracy. Nxa5 was best.'}}, {'eval': 33}, {'eval': 75}, {'eval': 0, 'best': 'e5f6', 'variation': 'exf6 gxf6 Nbd2 Rc8 Be2 Bd6 Nh4 Bg6 Ba3 Bxa3 Qxa3 Qe7 Qb2 f5', 'judgment': {'name': 'Inaccuracy', 'comment': 'Inaccuracy. exf6 was best.'}}, {'eval': 0}, {'eval': -2}, {'eval': -4}, {'eval': -14}, {'eval': -13}, {'eval': -14}, {'eval': 218, 'best': 'f5d3', 'variation': 'Bd3 Ba3 Nh6 h3 Bxa3 Rxa3 Rb2 Kd1 Rhb8 Re1 Nf7 Re3 Bc2+ Kc1', 'judgment': {'name': 'Blunder', 'comment': 'Blunder. Bd3 was best.'}}, {'eval': 210}, {'eval': 213}, {'eval': 141, 'best': 'g2g4', 'variation': 'g4', 'judgment': {'name': 'Inaccuracy', 'comment': 'Inaccuracy. g4 was best.'}}, {'eval': 183}, {'eval': 173}, {'eval': 175}, {'eval': 40, 'best': 'c1a3', 'variation': 'Ba3 Bc7 Rfe1 Rb3 Bb4 Rb2 h3 Ne4 Nd3 Rc2 Nc5 Nxc5 dxc5 Kf7', 'judgment': {'name': 'Mistake', 'comment': 'Mistake. Ba3 was best.'}}, {'eval': 126, 'best': 'd6e5', 'variation': 'Bxe5 dxe5 Ne4 Nxe4 Bxe4 f3 Bf5 Be3 Rb3 Bd4 h5 h4 Kf7 Rf2', 'judgment': {'name': 'Inaccuracy', 'comment': 'Inaccuracy. Bxe5 was best.'}}, {'eval': 87}, {'eval': 196, 'best': 'b8b3', 'variation': 'Rb3 c4 Bb4 Re3 Rxe3 fxe3 Ng4 Nxg4 Bxg4 h3 Be2 Ba3 Bxa3 Rxa3', 'judgment': {'name': 'Inaccuracy', 'comment': 'Inaccuracy. Rb3 was best.'}}, {'eval': 22, 'best': 'c1a3', 'variation': 'Ba3 Ke7 Ra2 Bxa3 Rxa3 Rc7 Rb3 h6 Ngf3 Rfc8 Rb6 Rxc3 Rxa6 Kf8', 'judgment': {'name': 'Blunder', 'comment': 'Blunder. Ba3 was best.'}}, {'eval': 23}, {'eval': 20}, {'eval': 34}, {'eval': -4}, {'eval': 17}, {'eval': 8}, {'eval': 18}, {'eval': 20}, {'eval': 173, 'best': 'f8f7', 'variation': 'Rf7 Be3 Nxc3 Nd4 Rc4 g4 Bd3 Kh2 Kd7 h4 Rf8 hxg5 hxg5 Kg3', 'judgment': {'name': 'Mistake', 'comment': 'Mistake. Rf7 was best.'}}, {'eval': 169}, {'eval': 168}, {'eval': 166}, {'eval': 307, 'best': 'e4c5', 'variation': 'Nc5 Bd2', 'judgment': {'name': 'Mistake', 'comment': 'Mistake. Nc5 was best.'}}, {'eval': 295}, {'eval': 450, 'best': 'a5d5', 'variation': 'Rxd5 Nd4 Kd7 f3 Ng3 Kf2 Nh5 g4 Nf4 gxf5 Nd3+ Kf1 Rxf5 Nxf5', 'judgment': {'name': 'Inaccuracy', 'comment': 'Inaccuracy. Rxd5 was best.'}}, {'eval': 437}, {'eval': 541}, {'eval': 541}, {'eval': 537}, {'eval': 529}, {'eval': 587}, {'eval': 580}, {'eval': 604}, {'eval': 580}, {'eval': 620}, {'eval': 616}, {'eval': 661}, {'eval': 594}, {'eval': 730}, {'eval': 574}, {'eval': 621}, {'eval': 542}, {'eval': 704, 'best': 'b8c8', 'variation': 'Rc8 Nc6+ Rxc6 Rxc6 gxh3 Rc5 h2+ Kxh2 Kxe4 Bxg5+ Kd4 Rc6 Bd7 Bf6+', 'judgment': {'name': 'Inaccuracy', 'comment': 'Inaccuracy. Rc8 was best.'}}, {'eval': 547}, {'mate': 17, 'best': 'e5d5', 'variation': 'Kxd5 Rd1+ Ke4 Rxe6+ Kf5 Rc6 Rb2 Rc5+ Ke6 Nc4 Rg2+ Kh1 Kf7 Rd6', 'judgment': {'name': 'Blunder', 'comment': 'Checkmate is now unavoidable. Kxd5 was best.'}}, {'mate': 21}, {'mate': 10}, {'mate': 13}, {'mate': 7}, {'mate': 8}, {'mate': 8}, {'mate': 7}, {'mate': 5}, {'mate': 6}, {'mate': 1}]\n",
      "['e4', 'c6', 'd4', 'd5', 'e5', 'Bf5', 'Nf3', 'e6', 'c3', 'c5', 'a4', 'Nc6', 'a5', 'a6', 'Qa4', 'c4', 'b3', 'cxb3', 'Qxb3', 'Rb8', 'Qa4', 'f6', 'Bxa6', 'bxa6', 'Qxc6+', 'Qd7', 'Qxd7+', 'Kxd7', 'Nbd2', 'fxe5', 'Nxe5+', 'Ke8', 'O-O', 'Nf6', 'Ndf3', 'Bd6', 'Ng5', 'Rf8', 'Re1', 'Rc8', 'Bd2', 'h6', 'Ngf3', 'Ne4', 'Rac1', 'g5', 'h3', 'Bxe5', 'dxe5', 'Rc5', 'Be3', 'Rxa5', 'c4', 'Ke7', 'cxd5', 'exd5', 'Nd4', 'Be6', 'Nc6+', 'Kf7', 'Nxa5', 'Rb8', 'Rc7+', 'Kg6', 'Rc6', 'Kf5', 'Rxa6', 'h5', 'g4+', 'Kxe5', 'f3', 'hxg4', 'fxe4', 'gxh3', 'exd5', 'Bxd5', 'Ba7+', 'Kf4', 'Bxb8+', 'Kf3', 'Rf6+', 'Kg4', 'Re5', 'Kh4', 'Kh2', 'g4', 'Rh6#']\n"
     ]
    }
   ],
   "source": [
    "print((game_history[1][\"analysis\"]))\n",
    "print((game_history[1][\"moves\"].split(\" \")))\n"
   ]
  },
  {
   "cell_type": "code",
   "execution_count": null,
   "metadata": {},
   "outputs": [],
   "source": [
    "def find_errors(moves, evaluations, color):\n",
    "    \n",
    "    mistakes = []\n",
    "    start_index = 0 if color == \"white\" else 1\n",
    "\n",
    "    for move_number, (move, eval_dict) in enumerate(zip(moves[start_index::2], evaluations[start_index::2]), start=1):\n",
    "        actual_move_number = move_number * 2 - (1 if color == \"white\" else 0)\n",
    "\n",
    "        if 'judgment' in eval_dict:\n",
    "            mistake_detail = {\n",
    "                'move_number': actual_move_number,\n",
    "                'move': move,\n",
    "                'evaluation': eval_dict.get('eval', 'N/A'),\n",
    "                'type': eval_dict['judgment']['name'],\n",
    "                'comment': eval_dict['judgment']['comment'],\n",
    "                'best_move': eval_dict.get('best', 'N/A'),\n",
    "                'variation': eval_dict.get('variation', 'N/A')\n",
    "            }\n",
    "            mistakes.append(mistake_detail)\n",
    "    \n",
    "    return mistakes"
   ]
  },
  {
   "cell_type": "code",
   "execution_count": null,
   "metadata": {},
   "outputs": [
    {
     "data": {
      "text/plain": [
       "[{'move_number': 16,\n",
       "  'move': 'c4',\n",
       "  'evaluation': 42,\n",
       "  'type': 'Mistake',\n",
       "  'comment': 'Mistake. Bxb1 was best.',\n",
       "  'best_move': 'f5b1',\n",
       "  'variation': 'Bxb1 Rxb1'},\n",
       " {'move_number': 18,\n",
       "  'move': 'cxb3',\n",
       "  'evaluation': 39,\n",
       "  'type': 'Inaccuracy',\n",
       "  'comment': 'Inaccuracy. Bxb1 was best.',\n",
       "  'best_move': 'f5b1',\n",
       "  'variation': 'Bxb1 Rxb1 Qxa5 Qxa5 Nxa5 bxc4 dxc4 Nd2 b5 g3 Ne7 Bg2 Nac6 Nf1'},\n",
       " {'move_number': 20,\n",
       "  'move': 'Rb8',\n",
       "  'evaluation': 36,\n",
       "  'type': 'Inaccuracy',\n",
       "  'comment': 'Inaccuracy. Nxa5 was best.',\n",
       "  'best_move': 'c6a5',\n",
       "  'variation': 'Nxa5'},\n",
       " {'move_number': 30,\n",
       "  'move': 'fxe5',\n",
       "  'evaluation': 218,\n",
       "  'type': 'Blunder',\n",
       "  'comment': 'Blunder. Bd3 was best.',\n",
       "  'best_move': 'f5d3',\n",
       "  'variation': 'Bd3 Ba3 Nh6 h3 Bxa3 Rxa3 Rb2 Kd1 Rhb8 Re1 Nf7 Re3 Bc2+ Kc1'},\n",
       " {'move_number': 38,\n",
       "  'move': 'Rf8',\n",
       "  'evaluation': 126,\n",
       "  'type': 'Inaccuracy',\n",
       "  'comment': 'Inaccuracy. Bxe5 was best.',\n",
       "  'best_move': 'd6e5',\n",
       "  'variation': 'Bxe5 dxe5 Ne4 Nxe4 Bxe4 f3 Bf5 Be3 Rb3 Bd4 h5 h4 Kf7 Rf2'},\n",
       " {'move_number': 40,\n",
       "  'move': 'Rc8',\n",
       "  'evaluation': 196,\n",
       "  'type': 'Inaccuracy',\n",
       "  'comment': 'Inaccuracy. Rb3 was best.',\n",
       "  'best_move': 'b8b3',\n",
       "  'variation': 'Rb3 c4 Bb4 Re3 Rxe3 fxe3 Ng4 Nxg4 Bxg4 h3 Be2 Ba3 Bxa3 Rxa3'},\n",
       " {'move_number': 50,\n",
       "  'move': 'Rc5',\n",
       "  'evaluation': 173,\n",
       "  'type': 'Mistake',\n",
       "  'comment': 'Mistake. Rf7 was best.',\n",
       "  'best_move': 'f8f7',\n",
       "  'variation': 'Rf7 Be3 Nxc3 Nd4 Rc4 g4 Bd3 Kh2 Kd7 h4 Rf8 hxg5 hxg5 Kg3'},\n",
       " {'move_number': 54,\n",
       "  'move': 'Ke7',\n",
       "  'evaluation': 307,\n",
       "  'type': 'Mistake',\n",
       "  'comment': 'Mistake. Nc5 was best.',\n",
       "  'best_move': 'e4c5',\n",
       "  'variation': 'Nc5 Bd2'},\n",
       " {'move_number': 56,\n",
       "  'move': 'exd5',\n",
       "  'evaluation': 450,\n",
       "  'type': 'Inaccuracy',\n",
       "  'comment': 'Inaccuracy. Rxd5 was best.',\n",
       "  'best_move': 'a5d5',\n",
       "  'variation': 'Rxd5 Nd4 Kd7 f3 Ng3 Kf2 Nh5 g4 Nf4 gxf5 Nd3+ Kf1 Rxf5 Nxf5'},\n",
       " {'move_number': 74,\n",
       "  'move': 'gxh3',\n",
       "  'evaluation': 704,\n",
       "  'type': 'Inaccuracy',\n",
       "  'comment': 'Inaccuracy. Rc8 was best.',\n",
       "  'best_move': 'b8c8',\n",
       "  'variation': 'Rc8 Nc6+ Rxc6 Rxc6 gxh3 Rc5 h2+ Kxh2 Kxe4 Bxg5+ Kd4 Rc6 Bd7 Bf6+'},\n",
       " {'move_number': 76,\n",
       "  'move': 'Bxd5',\n",
       "  'evaluation': 'N/A',\n",
       "  'type': 'Blunder',\n",
       "  'comment': 'Checkmate is now unavoidable. Kxd5 was best.',\n",
       "  'best_move': 'e5d5',\n",
       "  'variation': 'Kxd5 Rd1+ Ke4 Rxe6+ Kf5 Rc6 Rb2 Rc5+ Ke6 Nc4 Rg2+ Kh1 Kf7 Rd6'}]"
      ]
     },
     "execution_count": 33,
     "metadata": {},
     "output_type": "execute_result"
    }
   ],
   "source": [
    "color = 'black'\n",
    "moves = game_history[1][\"moves\"].split(\" \")\n",
    "evaluations = game_history[1][\"analysis\"]\n",
    "\n",
    "find_errors(moves, evaluations, color)"
   ]
  },
  {
   "cell_type": "code",
   "execution_count": null,
   "metadata": {},
   "outputs": [
    {
     "ename": "TypeError",
     "evalue": "list indices must be integers or slices, not str",
     "output_type": "error",
     "traceback": [
      "\u001b[1;31m---------------------------------------------------------------------------\u001b[0m",
      "\u001b[1;31mTypeError\u001b[0m                                 Traceback (most recent call last)",
      "\u001b[1;32m~\\AppData\\Local\\Temp\\ipykernel_1872\\2474941829.py\u001b[0m in \u001b[0;36m<module>\u001b[1;34m\u001b[0m\n\u001b[0;32m      1\u001b[0m \u001b[0mboard\u001b[0m \u001b[1;33m=\u001b[0m \u001b[0mget_board_state\u001b[0m\u001b[1;33m(\u001b[0m\u001b[0mgame_history\u001b[0m\u001b[1;33m[\u001b[0m\u001b[1;36m1\u001b[0m\u001b[1;33m]\u001b[0m\u001b[1;33m[\u001b[0m\u001b[1;34m\"moves\"\u001b[0m\u001b[1;33m]\u001b[0m\u001b[1;33m,\u001b[0m \u001b[1;36m10\u001b[0m\u001b[1;33m)\u001b[0m\u001b[1;33m\u001b[0m\u001b[1;33m\u001b[0m\u001b[0m\n\u001b[1;32m----> 2\u001b[1;33m \u001b[0mboard\u001b[0m\u001b[1;33m.\u001b[0m\u001b[0mpieces\u001b[0m\u001b[1;33m(\u001b[0m\u001b[1;36m1\u001b[0m\u001b[1;33m,\u001b[0m\u001b[1;34m\"WHITE\"\u001b[0m\u001b[1;33m)\u001b[0m\u001b[1;33m\u001b[0m\u001b[1;33m\u001b[0m\u001b[0m\n\u001b[0m",
      "\u001b[1;32md:\\anaconda\\lib\\site-packages\\chess\\__init__.py\u001b[0m in \u001b[0;36mpieces\u001b[1;34m(self, piece_type, color)\u001b[0m\n\u001b[0;32m    721\u001b[0m         \u001b[0mReturns\u001b[0m \u001b[0ma\u001b[0m \u001b[1;33m:\u001b[0m\u001b[1;32mclass\u001b[0m\u001b[1;33m:\u001b[0m\u001b[0;31m`\u001b[0m\u001b[0mset\u001b[0m \u001b[0mof\u001b[0m \u001b[0msquares\u001b[0m \u001b[1;33m<\u001b[0m\u001b[0mchess\u001b[0m\u001b[1;33m.\u001b[0m\u001b[0mSquareSet\u001b[0m\u001b[1;33m>\u001b[0m\u001b[0;31m`\u001b[0m\u001b[1;33m.\u001b[0m\u001b[1;33m\u001b[0m\u001b[1;33m\u001b[0m\u001b[0m\n\u001b[0;32m    722\u001b[0m         \"\"\"\n\u001b[1;32m--> 723\u001b[1;33m         \u001b[1;32mreturn\u001b[0m \u001b[0mSquareSet\u001b[0m\u001b[1;33m(\u001b[0m\u001b[0mself\u001b[0m\u001b[1;33m.\u001b[0m\u001b[0mpieces_mask\u001b[0m\u001b[1;33m(\u001b[0m\u001b[0mpiece_type\u001b[0m\u001b[1;33m,\u001b[0m \u001b[0mcolor\u001b[0m\u001b[1;33m)\u001b[0m\u001b[1;33m)\u001b[0m\u001b[1;33m\u001b[0m\u001b[1;33m\u001b[0m\u001b[0m\n\u001b[0m\u001b[0;32m    724\u001b[0m \u001b[1;33m\u001b[0m\u001b[0m\n\u001b[0;32m    725\u001b[0m     \u001b[1;32mdef\u001b[0m \u001b[0mpiece_at\u001b[0m\u001b[1;33m(\u001b[0m\u001b[0mself\u001b[0m\u001b[1;33m,\u001b[0m \u001b[0msquare\u001b[0m\u001b[1;33m:\u001b[0m \u001b[0mSquare\u001b[0m\u001b[1;33m)\u001b[0m \u001b[1;33m->\u001b[0m \u001b[0mOptional\u001b[0m\u001b[1;33m[\u001b[0m\u001b[0mPiece\u001b[0m\u001b[1;33m]\u001b[0m\u001b[1;33m:\u001b[0m\u001b[1;33m\u001b[0m\u001b[1;33m\u001b[0m\u001b[0m\n",
      "\u001b[1;32md:\\anaconda\\lib\\site-packages\\chess\\__init__.py\u001b[0m in \u001b[0;36mpieces_mask\u001b[1;34m(self, piece_type, color)\u001b[0m\n\u001b[0;32m    713\u001b[0m             \u001b[1;32massert\u001b[0m \u001b[1;32mFalse\u001b[0m\u001b[1;33m,\u001b[0m \u001b[1;34mf\"expected PieceType, got {piece_type!r}\"\u001b[0m\u001b[1;33m\u001b[0m\u001b[1;33m\u001b[0m\u001b[0m\n\u001b[0;32m    714\u001b[0m \u001b[1;33m\u001b[0m\u001b[0m\n\u001b[1;32m--> 715\u001b[1;33m         \u001b[1;32mreturn\u001b[0m \u001b[0mbb\u001b[0m \u001b[1;33m&\u001b[0m \u001b[0mself\u001b[0m\u001b[1;33m.\u001b[0m\u001b[0moccupied_co\u001b[0m\u001b[1;33m[\u001b[0m\u001b[0mcolor\u001b[0m\u001b[1;33m]\u001b[0m\u001b[1;33m\u001b[0m\u001b[1;33m\u001b[0m\u001b[0m\n\u001b[0m\u001b[0;32m    716\u001b[0m \u001b[1;33m\u001b[0m\u001b[0m\n\u001b[0;32m    717\u001b[0m     \u001b[1;32mdef\u001b[0m \u001b[0mpieces\u001b[0m\u001b[1;33m(\u001b[0m\u001b[0mself\u001b[0m\u001b[1;33m,\u001b[0m \u001b[0mpiece_type\u001b[0m\u001b[1;33m:\u001b[0m \u001b[0mPieceType\u001b[0m\u001b[1;33m,\u001b[0m \u001b[0mcolor\u001b[0m\u001b[1;33m:\u001b[0m \u001b[0mColor\u001b[0m\u001b[1;33m)\u001b[0m \u001b[1;33m->\u001b[0m \u001b[0mSquareSet\u001b[0m\u001b[1;33m:\u001b[0m\u001b[1;33m\u001b[0m\u001b[1;33m\u001b[0m\u001b[0m\n",
      "\u001b[1;31mTypeError\u001b[0m: list indices must be integers or slices, not str"
     ]
    }
   ],
   "source": [
    "board = get_board_state(game_history[1][\"moves\"], 10)\n",
    "board.pieces(1,\"WHITE\")"
   ]
  },
  {
   "cell_type": "code",
   "execution_count": null,
   "metadata": {},
   "outputs": [
    {
     "name": "stdout",
     "output_type": "stream",
     "text": [
      "-24\n"
     ]
    }
   ],
   "source": [
    "evaluation = evaluate_position(game_history[1][\"moves\"], 10, \"stockfish\\stockfish-windows-x86-64.exe\")\n",
    "print(evaluation)\n",
    "\n"
   ]
  },
  {
   "cell_type": "code",
   "execution_count": null,
   "metadata": {},
   "outputs": [],
   "source": [
    "puzzles_test = json.loads(open(\"puzzles_test.json\").read())"
   ]
  },
  {
   "cell_type": "code",
   "execution_count": null,
   "metadata": {},
   "outputs": [
    {
     "name": "stdout",
     "output_type": "stream",
     "text": [
      "mateIn1\n"
     ]
    }
   ],
   "source": [
    "result = isMate(puzzles_test[\"anastasiaMate\"][\"FEN\"], \"stockfish\\stockfish-windows-x86-64.exe\", puzzles_test[\"anastasiaMate\"][\"Moves\"] )\n",
    "print(result)"
   ]
  },
  {
   "cell_type": "code",
   "execution_count": 16,
   "metadata": {},
   "outputs": [
    {
     "name": "stdout",
     "output_type": "stream",
     "text": [
      "[('e4', 'Best', []), ('c6', 'Blunder', [Move.from_uci('d2d4'), Move.from_uci('d7d5')]), ('d4', 'Blunder', [Move.from_uci('d7d5'), Move.from_uci('e4e5'), Move.from_uci('c8f5'), Move.from_uci('b1c3'), Move.from_uci('e7e6'), Move.from_uci('g2g4'), Move.from_uci('f5g6'), Move.from_uci('g1e2'), Move.from_uci('f7f6'), Move.from_uci('e2f4'), Move.from_uci('f6e5'), Move.from_uci('f4e6'), Move.from_uci('d8e7')]), ('d5', 'Blunder', [Move.from_uci('e4e5'), Move.from_uci('c8f5')]), ('e5', 'Blunder', [Move.from_uci('c8f5'), Move.from_uci('c2c4'), Move.from_uci('e7e6'), Move.from_uci('b1c3'), Move.from_uci('g8e7'), Move.from_uci('c4c5'), Move.from_uci('b8d7'), Move.from_uci('g2g4')]), ('Bf5', 'Blunder', [Move.from_uci('f1e2'), Move.from_uci('e7e6'), Move.from_uci('g1f3'), Move.from_uci('c6c5'), Move.from_uci('e1g1'), Move.from_uci('b8c6'), Move.from_uci('c2c3'), Move.from_uci('a7a6'), Move.from_uci('c1e3'), Move.from_uci('d8b6')]), ('Nf3', 'Blunder', [Move.from_uci('e7e6'), Move.from_uci('f1e2'), Move.from_uci('c6c5'), Move.from_uci('c2c3'), Move.from_uci('b8c6'), Move.from_uci('e1g1'), Move.from_uci('a7a6'), Move.from_uci('c1e3'), Move.from_uci('c5d4'), Move.from_uci('c3d4'), Move.from_uci('f5g4'), Move.from_uci('d1b3'), Move.from_uci('g8e7'), Move.from_uci('b1c3')]), ('e6', 'Blunder', [Move.from_uci('f1e2'), Move.from_uci('h7h6'), Move.from_uci('c2c3'), Move.from_uci('g8e7'), Move.from_uci('a2a4'), Move.from_uci('a7a5'), Move.from_uci('e1g1'), Move.from_uci('f5h7'), Move.from_uci('b1a3')]), ('c3', 'Blunder', [Move.from_uci('b8d7'), Move.from_uci('f1e2'), Move.from_uci('f7f6'), Move.from_uci('e1g1'), Move.from_uci('f6e5'), Move.from_uci('d4e5'), Move.from_uci('f8c5'), Move.from_uci('b2b4'), Move.from_uci('c5b6'), Move.from_uci('a2a4'), Move.from_uci('b6c7'), Move.from_uci('a4a5')]), ('c5', 'Blunder', [Move.from_uci('f1e2'), Move.from_uci('b8c6'), Move.from_uci('e1g1'), Move.from_uci('f5g4'), Move.from_uci('f1e1'), Move.from_uci('g4f3'), Move.from_uci('e2f3'), Move.from_uci('c5d4'), Move.from_uci('c3d4')]), ('a4', 'Blunder', [Move.from_uci('a7a6'), Move.from_uci('c1e3')]), ('Nc6', 'Excellent', [Move.from_uci('d4c5'), Move.from_uci('f8c5')]), ('a5', 'Blunder', [Move.from_uci('a7a6'), Move.from_uci('b1d2'), Move.from_uci('d8c7'), Move.from_uci('d1a4'), Move.from_uci('f7f6')]), ('a6', 'Blunder', [Move.from_uci('b1d2'), Move.from_uci('d8c7'), Move.from_uci('d4c5'), Move.from_uci('f8c5'), Move.from_uci('b2b4'), Move.from_uci('c5a7'), Move.from_uci('b4b5'), Move.from_uci('a6b5'), Move.from_uci('f1b5'), Move.from_uci('g8e7'), Move.from_uci('e1g1'), Move.from_uci('e8g8'), Move.from_uci('c1a3')]), ('Qa4', 'Blunder', [Move.from_uci('f5b1'), Move.from_uci('a1b1'), Move.from_uci('d8a5'), Move.from_uci('a4a5'), Move.from_uci('c6a5'), Move.from_uci('d4c5'), Move.from_uci('a5b3'), Move.from_uci('c5c6'), Move.from_uci('b7c6'), Move.from_uci('c1e3'), Move.from_uci('f8c5'), Move.from_uci('e3c5'), Move.from_uci('b3c5'), Move.from_uci('b1a1'), Move.from_uci('g8e7'), Move.from_uci('b2b4'), Move.from_uci('c5d7'), Move.from_uci('a1a6'), Move.from_uci('e8g8'), Move.from_uci('e1d2'), Move.from_uci('a8a6'), Move.from_uci('f1a6'), Move.from_uci('f8a8'), Move.from_uci('h1a1'), Move.from_uci('d7b8')]), ('c4', 'Blunder', [Move.from_uci('b1d2'), Move.from_uci('h7h6'), Move.from_uci('f1e2'), Move.from_uci('g8e7'), Move.from_uci('e1g1'), Move.from_uci('e7g6'), Move.from_uci('b2b3'), Move.from_uci('f5c2'), Move.from_uci('a4a2'), Move.from_uci('c4b3'), Move.from_uci('d2b3'), Move.from_uci('c2b3'), Move.from_uci('a2b3'), Move.from_uci('c6a5'), Move.from_uci('b3a4'), Move.from_uci('a5c6')]), ('b3', 'Mistake', [Move.from_uci('f5b1'), Move.from_uci('a1b1')]), ('cxb3', 'Blunder', [Move.from_uci('b1d2'), Move.from_uci('g8e7'), Move.from_uci('d2b3'), Move.from_uci('e7g6'), Move.from_uci('h2h4'), Move.from_uci('h7h5'), Move.from_uci('f1e2'), Move.from_uci('f8e7'), Move.from_uci('g2g3'), Move.from_uci('a8c8'), Move.from_uci('e1g1'), Move.from_uci('e8g8'), Move.from_uci('a4a2')]), ('Qxb3', 'Inaccuracy', [Move.from_uci('d8c7'), Move.from_uci('b1d2')]), ('Rb8', 'Good', [Move.from_uci('b1d2')]), ('Qa4', 'Blunder', [Move.from_uci('b8c8'), Move.from_uci('b1d2')]), ('f6', 'Blunder', [Move.from_uci('b1d2'), Move.from_uci('g8e7'), Move.from_uci('e5f6'), Move.from_uci('g7f6'), Move.from_uci('f3h4'), Move.from_uci('f5g6'), Move.from_uci('f1e2'), Move.from_uci('f8h6'), Move.from_uci('e1g1'), Move.from_uci('d8c7')]), ('Bxa6', 'Mistake', [Move.from_uci('b7a6'), Move.from_uci('a4c6')]), ('bxa6', 'Blunder', [Move.from_uci('a4c6'), Move.from_uci('e8f7'), Move.from_uci('e5f6'), Move.from_uci('g7f6'), Move.from_uci('c6a6'), Move.from_uci('f5b1'), Move.from_uci('c1f4'), Move.from_uci('b8b2'), Move.from_uci('f4c1')]), ('Qxc6+', 'Blunder', [Move.from_uci('d8d7')]), ('Qd7', 'Blunder', [Move.from_uci('c6d7')]), ('Qxd7+', 'Blunder', [Move.from_uci('e8d7'), Move.from_uci('b1d2'), Move.from_uci('f5d3'), Move.from_uci('d2f1'), Move.from_uci('g8e7'), Move.from_uci('e1d2'), Move.from_uci('d3g6'), Move.from_uci('c1a3'), Move.from_uci('e7c6')]), ('Kxd7', 'Blunder', [Move.from_uci('b1d2')]), ('Nbd2', 'Blunder', [Move.from_uci('f5d3'), Move.from_uci('d2f1'), Move.from_uci('g8e7'), Move.from_uci('e1d2'), Move.from_uci('d3g6'), Move.from_uci('e5f6'), Move.from_uci('g7f6'), Move.from_uci('f3h4'), Move.from_uci('g6b1'), Move.from_uci('c1a3'), Move.from_uci('e7g6'), Move.from_uci('h4g6'), Move.from_uci('b1g6')]), ('fxe5', 'Blunder', [Move.from_uci('f3e5')]), ('Nxe5+', 'Blunder', [Move.from_uci('d7e8'), Move.from_uci('g2g4'), Move.from_uci('f5g6'), Move.from_uci('h2h4'), Move.from_uci('g8f6'), Move.from_uci('e1e2'), Move.from_uci('f8e7')]), ('Ke8', 'Blunder', [Move.from_uci('g2g4'), Move.from_uci('f5g6'), Move.from_uci('h2h4'), Move.from_uci('g8f6'), Move.from_uci('h4h5'), Move.from_uci('g6c2'), Move.from_uci('a1a2'), Move.from_uci('c2b1'), Move.from_uci('a2b2'), Move.from_uci('b8b2'), Move.from_uci('c1b2'), Move.from_uci('b1c2'), Move.from_uci('c3c4'), Move.from_uci('f6d7'), Move.from_uci('e1g1'), Move.from_uci('f8b4'), Move.from_uci('f1c1'), Move.from_uci('d7e5'), Move.from_uci('d4e5')]), ('O-O', 'Blunder', [Move.from_uci('g8f6'), Move.from_uci('f1e1')]), ('Nf6', 'Blunder', [Move.from_uci('f1e1'), Move.from_uci('f8d6'), Move.from_uci('c3c4'), Move.from_uci('d6e5'), Move.from_uci('d4e5'), Move.from_uci('f6e4'), Move.from_uci('c4d5'), Move.from_uci('e6d5'), Move.from_uci('d2f3'), Move.from_uci('e4c5'), Move.from_uci('c1a3'), Move.from_uci('c5e6'), Move.from_uci('a1d1'), Move.from_uci('b8b5')]), ('Ndf3', 'Blunder', [Move.from_uci('b8b3'), Move.from_uci('c3c4'), Move.from_uci('d5c4'), Move.from_uci('f3d2'), Move.from_uci('f8b4'), Move.from_uci('d2c4'), Move.from_uci('f5d3'), Move.from_uci('e5d3'), Move.from_uci('b3d3'), Move.from_uci('a1b1'), Move.from_uci('f6d5'), Move.from_uci('c4e5'), Move.from_uci('d3d4'), Move.from_uci('c1a3'), Move.from_uci('d4e4')]), ('Bd6', 'Blunder', [Move.from_uci('c1a3'), Move.from_uci('d6e5')]), ('Ng5', 'Blunder', [Move.from_uci('d6e5')]), ('Rf8', 'Blunder', [Move.from_uci('c1a3'), Move.from_uci('d6a3'), Move.from_uci('a1a3'), Move.from_uci('f6d7'), Move.from_uci('g5f3'), Move.from_uci('b8b2'), Move.from_uci('f1e1'), Move.from_uci('f5e4')]), ('Re1', 'Blunder', [Move.from_uci('b8b3'), Move.from_uci('h2h3')]), ('Rc8', 'Blunder', [Move.from_uci('c1a3'), Move.from_uci('e8e7')]), ('Bd2', 'Blunder', [Move.from_uci('h7h6'), Move.from_uci('g5f3'), Move.from_uci('f6e4'), Move.from_uci('a1a2'), Move.from_uci('e4d2'), Move.from_uci('a2d2'), Move.from_uci('d6a3'), Move.from_uci('d2e2'), Move.from_uci('c8c3'), Move.from_uci('e2e3'), Move.from_uci('c3e3'), Move.from_uci('e1e3'), Move.from_uci('a3c1')]), ('h6', 'Blunder', [Move.from_uci('g5f3'), Move.from_uci('f6e4'), Move.from_uci('a1a2'), Move.from_uci('e8e7'), Move.from_uci('e1e3'), Move.from_uci('c8c7'), Move.from_uci('a2b2'), Move.from_uci('e4d2'), Move.from_uci('f3d2'), Move.from_uci('d6e5'), Move.from_uci('d4e5'), Move.from_uci('f8c8'), Move.from_uci('g2g4'), Move.from_uci('f5g4'), Move.from_uci('e3g3'), Move.from_uci('g4f5'), Move.from_uci('g3g7'), Move.from_uci('e7f8'), Move.from_uci('g7c7'), Move.from_uci('c8c7')]), ('Ngf3', 'Blunder', [Move.from_uci('f6e4'), Move.from_uci('a1a2')]), ('Ne4', 'Blunder', [Move.from_uci('a1a2'), Move.from_uci('e8e7'), Move.from_uci('e1e3'), Move.from_uci('c8c7'), Move.from_uci('g2g4'), Move.from_uci('f5h7'), Move.from_uci('a2b2'), Move.from_uci('e4d2'), Move.from_uci('f3d2'), Move.from_uci('d6e5'), Move.from_uci('e3e5'), Move.from_uci('f8f4'), Move.from_uci('h2h3'), Move.from_uci('c7c3'), Move.from_uci('b2b6')]), ('Rac1', 'Inaccuracy', [Move.from_uci('d6e5'), Move.from_uci('d4e5')]), ('g5', 'Blunder', [Move.from_uci('c3c4'), Move.from_uci('d6e5')]), ('h3', 'Blunder', [Move.from_uci('e8e7'), Move.from_uci('d2e3')]), ('Bxe5', 'Blunder', [Move.from_uci('d4e5'), Move.from_uci('f8f7'), Move.from_uci('d2e3'), Move.from_uci('e4c3'), Move.from_uci('f3d4'), Move.from_uci('f7c7'), Move.from_uci('g2g4'), Move.from_uci('f5d3'), Move.from_uci('e3d2'), Move.from_uci('e8f7'), Move.from_uci('e1e3')]), ('dxe5', 'Blunder', [Move.from_uci('f8f7'), Move.from_uci('d2e3')]), ('Rc5', 'Blunder', [Move.from_uci('d2e3'), Move.from_uci('c5a5')]), ('Be3', 'Blunder', [Move.from_uci('c5a5'), Move.from_uci('c1b1')]), ('Rxa5', 'Blunder', [Move.from_uci('c3c4'), Move.from_uci('e4c5'), Move.from_uci('c1a1'), Move.from_uci('c5b3'), Move.from_uci('a1a5'), Move.from_uci('b3a5'), Move.from_uci('c4d5'), Move.from_uci('f5e4'), Move.from_uci('d5e6'), Move.from_uci('e4f3'), Move.from_uci('g2f3'), Move.from_uci('f8f5'), Move.from_uci('e3c5'), Move.from_uci('a5c6'), Move.from_uci('c5d6'), Move.from_uci('c6d4'), Move.from_uci('e1e4'), Move.from_uci('d4f3'), Move.from_uci('g1h1')]), ('c4', 'Blunder', [Move.from_uci('e4c5'), Move.from_uci('c4d5'), Move.from_uci('c5d3'), Move.from_uci('c1c8'), Move.from_uci('e8f7'), Move.from_uci('d5e6'), Move.from_uci('f5e6'), Move.from_uci('c8c7'), Move.from_uci('f7g6'), Move.from_uci('e1b1'), Move.from_uci('d3e5'), Move.from_uci('f3e5'), Move.from_uci('a5e5'), Move.from_uci('b1b6'), Move.from_uci('f8f7'), Move.from_uci('c7c6'), Move.from_uci('f7e7'), Move.from_uci('b6a6'), Move.from_uci('g6f7'), Move.from_uci('c6d6')]), ('Ke7', 'Blunder', [Move.from_uci('e3b6'), Move.from_uci('a5a2'), Move.from_uci('c4d5'), Move.from_uci('e6d5'), Move.from_uci('f3d4'), Move.from_uci('a2b2'), Move.from_uci('c1c7'), Move.from_uci('f5d7'), Move.from_uci('e5e6'), Move.from_uci('b2b6'), Move.from_uci('c7d7'), Move.from_uci('e7e8'), Move.from_uci('d7d5'), Move.from_uci('b6d6')]), ('cxd5', 'Blunder', [Move.from_uci('a5d5'), Move.from_uci('f3d4')]), ('exd5', 'Blunder', [Move.from_uci('f3d4'), Move.from_uci('e7d7'), Move.from_uci('c1c6'), Move.from_uci('f8e8'), Move.from_uci('f2f3'), Move.from_uci('e4c5'), Move.from_uci('c6d6'), Move.from_uci('d7c7')]), ('Nd4', 'Blunder', [Move.from_uci('e7d7'), Move.from_uci('c1c6'), Move.from_uci('e4c5'), Move.from_uci('c6d6'), Move.from_uci('d7e8'), Move.from_uci('d6h6'), Move.from_uci('c5d3'), Move.from_uci('e1b1'), Move.from_uci('d3e5'), Move.from_uci('b1b8'), Move.from_uci('e8d7'), Move.from_uci('b8f8'), Move.from_uci('f5e4'), Move.from_uci('g1h2')]), ('Be6', 'Blunder', [Move.from_uci('d4c6'), Move.from_uci('e7d7'), Move.from_uci('c6a5'), Move.from_uci('g5g4'), Move.from_uci('h3g4'), Move.from_uci('e6g4'), Move.from_uci('a5b7'), Move.from_uci('f8b8'), Move.from_uci('b7c5'), Move.from_uci('e4c5'), Move.from_uci('e3c5'), Move.from_uci('g4e6')]), ('Nc6+', 'Blunder', [Move.from_uci('e7d7'), Move.from_uci('c6a5'), Move.from_uci('g5g4'), Move.from_uci('h3g4'), Move.from_uci('e6g4'), Move.from_uci('a5b3'), Move.from_uci('f8g8'), Move.from_uci('g1h1'), Move.from_uci('g8c8')]), ('Kf7', 'Blunder', [Move.from_uci('c6a5'), Move.from_uci('f8d8'), Move.from_uci('f2f3'), Move.from_uci('e4g3'), Move.from_uci('a5c6'), Move.from_uci('d8c8'), Move.from_uci('c6d4'), Move.from_uci('c8c4'), Move.from_uci('e3f2'), Move.from_uci('g3h5'), Move.from_uci('g2g3'), Move.from_uci('c4c1'), Move.from_uci('e1c1'), Move.from_uci('e6h3')]), ('Nxa5', 'Blunder', [Move.from_uci('f8c8'), Move.from_uci('c1c8'), Move.from_uci('e6c8'), Move.from_uci('f2f3'), Move.from_uci('e4g3'), Move.from_uci('e3f2'), Move.from_uci('g3f5'), Move.from_uci('e1d1'), Move.from_uci('c8e6'), Move.from_uci('a5c6')]), ('Rb8', 'Blunder', [Move.from_uci('c1c7'), Move.from_uci('f7g6'), Move.from_uci('a5c6'), Move.from_uci('b8b2'), Move.from_uci('c6d4'), Move.from_uci('b2b6'), Move.from_uci('e1c1'), Move.from_uci('e6f7'), Move.from_uci('c7c6'), Move.from_uci('b6c6'), Move.from_uci('c1c6'), Move.from_uci('g6g7'), Move.from_uci('c6c1'), Move.from_uci('g7g8')]), ('Rc7+', 'Blunder', [Move.from_uci('f7g6'), Move.from_uci('a5c6'), Move.from_uci('b8b3'), Move.from_uci('c6d4'), Move.from_uci('b3b6'), Move.from_uci('e1c1'), Move.from_uci('h6h5'), Move.from_uci('c7c6'), Move.from_uci('b6c6'), Move.from_uci('c1c6'), Move.from_uci('h5h4'), Move.from_uci('c6e6'), Move.from_uci('g6h5'), Move.from_uci('e6a6')]), ('Kg6', 'Blunder', [Move.from_uci('a5c6'), Move.from_uci('b8b2'), Move.from_uci('c6d4'), Move.from_uci('b2b6'), Move.from_uci('e1c1'), Move.from_uci('h6h5'), Move.from_uci('c7e7'), Move.from_uci('e6f7'), Move.from_uci('g2g4'), Move.from_uci('h5g4'), Move.from_uci('h3g4'), Move.from_uci('a6a5'), Move.from_uci('e7a7'), Move.from_uci('f7e6'), Move.from_uci('d4f5'), Move.from_uci('e6f5'), Move.from_uci('g4f5'), Move.from_uci('g6f5'), Move.from_uci('e3b6'), Move.from_uci('e4d2')]), ('Rc6', 'Blunder', [Move.from_uci('b8e8'), Move.from_uci('c6a6'), Move.from_uci('g6h5'), Move.from_uci('a5c6'), Move.from_uci('e6c8'), Move.from_uci('g2g4'), Move.from_uci('c8g4'), Move.from_uci('h3g4'), Move.from_uci('h5g4')]), ('Kf5', 'Blunder', [Move.from_uci('c6a6'), Move.from_uci('b8c8'), Move.from_uci('e3d4'), Move.from_uci('c8c7'), Move.from_uci('g2g4'), Move.from_uci('f5f4'), Move.from_uci('a6e6')]), ('Rxa6', 'Blunder', [Move.from_uci('b8e8'), Move.from_uci('a5b3'), Move.from_uci('f5g6'), Move.from_uci('e1c1'), Move.from_uci('g6h5'), Move.from_uci('b3d4'), Move.from_uci('e6h3'), Move.from_uci('g2h3'), Move.from_uci('e8e5')]), ('h5', 'Blunder', [Move.from_uci('a5c6'), Move.from_uci('e6c8'), Move.from_uci('c6b8'), Move.from_uci('c8a6'), Move.from_uci('b8a6'), Move.from_uci('g5g4'), Move.from_uci('e5e6'), Move.from_uci('f5e6'), Move.from_uci('a6c7'), Move.from_uci('e6e5')]), ('g4+', 'Blunder', [Move.from_uci('h5g4'), Move.from_uci('h3g4'), Move.from_uci('f5g4'), Move.from_uci('a6e6'), Move.from_uci('d5d4'), Move.from_uci('e3d4'), Move.from_uci('b8b4'), Move.from_uci('e1e4'), Move.from_uci('g4f5'), Move.from_uci('e6f6'), Move.from_uci('f5e4'), Move.from_uci('d4c3')]), ('Kxe5', 'Blunder', [Move.from_uci('a5c6'), Move.from_uci('e5f6'), Move.from_uci('c6b8'), Move.from_uci('f6f7'), Move.from_uci('b8c6'), Move.from_uci('f7g8'), Move.from_uci('a6a8'), Move.from_uci('g8h7'), Move.from_uci('g4h5'), Move.from_uci('h7h6'), Move.from_uci('a8h8'), Move.from_uci('h6g7'), Move.from_uci('e3d4'), Move.from_uci('g7f7'), Move.from_uci('c6d8'), Move.from_uci('f7e7')]), ('f3', 'Blunder', [Move.from_uci('b8c8'), Move.from_uci('a5c6'), Move.from_uci('c8c6'), Move.from_uci('a6c6'), Move.from_uci('e6d7'), Move.from_uci('c6c1'), Move.from_uci('h5g4'), Move.from_uci('f3e4'), Move.from_uci('g4h3'), Move.from_uci('e4d5'), Move.from_uci('d7g4')]), ('hxg4', 'Blunder', [Move.from_uci('a5c6'), Move.from_uci('e5f6'), Move.from_uci('f3e4'), Move.from_uci('b8e8'), Move.from_uci('e3d4'), Move.from_uci('f6g6'), Move.from_uci('c6e5'), Move.from_uci('g6h7'), Move.from_uci('h3g4'), Move.from_uci('d5e4'), Move.from_uci('a6a7'), Move.from_uci('h7h6')]), ('fxe4', 'Blunder', [Move.from_uci('b8c8'), Move.from_uci('a5c6'), Move.from_uci('c8c6'), Move.from_uci('a6c6'), Move.from_uci('d5e4'), Move.from_uci('e1d1'), Move.from_uci('e6d5'), Move.from_uci('c6c5'), Move.from_uci('e5e6'), Move.from_uci('d1d5')]), ('gxh3', 'Blunder', [Move.from_uci('a5c6'), Move.from_uci('e5e4'), Move.from_uci('c6b8'), Move.from_uci('e6g4'), Move.from_uci('a6f6'), Move.from_uci('e4d3'), Move.from_uci('f6f2'), Move.from_uci('d3c3'), Move.from_uci('g1h2')]), ('exd5', 'Blunder', [Move.from_uci('h3h2'), Move.from_uci('g1h2'), Move.from_uci('b8b2'), Move.from_uci('h2g3'), Move.from_uci('e5d5'), Move.from_uci('e1d1'), Move.from_uci('d5e4'), Move.from_uci('a6e6'), Move.from_uci('e4f5'), Move.from_uci('a5c4'), Move.from_uci('f5e6'), Move.from_uci('c4b2'), Move.from_uci('e6f6'), Move.from_uci('d1d5'), Move.from_uci('f6e6')]), ('Bxd5', 'Blunder', [Move.from_uci('e3a7'), Move.from_uci('e5f5'), Move.from_uci('a7b8'), Move.from_uci('d5a2'), Move.from_uci('a6d6'), Move.from_uci('g5g4'), Move.from_uci('d6d2')]), ('Ba7+', 'Blunder', [Move.from_uci('e5f4'), Move.from_uci('a7b8'), Move.from_uci('f4g4'), Move.from_uci('a6d6'), Move.from_uci('d5f7'), Move.from_uci('e1e7'), Move.from_uci('h3h2'), Move.from_uci('g1h2'), Move.from_uci('f7g8'), Move.from_uci('e7e8'), Move.from_uci('g8a2'), Move.from_uci('d6d2'), Move.from_uci('a2b1'), Move.from_uci('d2g2'), Move.from_uci('g4h5')]), ('Kf4', 'Blunder', [Move.from_uci('a7b8'), Move.from_uci('f4g4'), Move.from_uci('e1e7'), Move.from_uci('g4h5'), Move.from_uci('a6d6'), Move.from_uci('d5g8'), Move.from_uci('a5c6'), Move.from_uci('h3h2'), Move.from_uci('g1h1'), Move.from_uci('h5g4'), Move.from_uci('h1h2'), Move.from_uci('g8b3'), Move.from_uci('c6d4'), Move.from_uci('b3a2')]), ('Bxb8+', 'Blunder', [Move.from_uci('f4g4'), Move.from_uci('e1e7'), Move.from_uci('g4h5'), Move.from_uci('a6f6'), Move.from_uci('h5h4'), Move.from_uci('g1f2'), Move.from_uci('h4g4'), Move.from_uci('a5c6'), Move.from_uci('d5c6'), Move.from_uci('f6c6'), Move.from_uci('h3h2'), Move.from_uci('b8h2'), Move.from_uci('g4h3'), Move.from_uci('c6h6'), Move.from_uci('h3g4')]), ('Kf3', 'Blunder', [Move.from_uci('e1e7'), Move.from_uci('f3g4'), Move.from_uci('a6d6'), Move.from_uci('d5g8'), Move.from_uci('d6f6'), Move.from_uci('g4h4'), Move.from_uci('a5c6'), Move.from_uci('h4h5'), Move.from_uci('c6e5'), Move.from_uci('h5h4'), Move.from_uci('f6f8'), Move.from_uci('h4h5'), Move.from_uci('f8g8')]), ('Rf6+', 'Blunder', [Move.from_uci('f3g4'), Move.from_uci('e1e7'), Move.from_uci('g4h5'), Move.from_uci('g1f2'), Move.from_uci('h5h4'), Move.from_uci('f6d6'), Move.from_uci('d5a2'), Move.from_uci('e7h7'), Move.from_uci('h4g4'), Move.from_uci('a5c6'), Move.from_uci('g4f5'), Move.from_uci('f2e3'), Move.from_uci('a2e6'), Move.from_uci('c6d4'), Move.from_uci('f5g6'), Move.from_uci('h7e7'), Move.from_uci('g6h5'), Move.from_uci('d4e6')]), ('Kg4', 'Blunder', [Move.from_uci('e1e7'), Move.from_uci('g4h5'), Move.from_uci('g1f2'), Move.from_uci('h5h4'), Move.from_uci('e7h7'), Move.from_uci('h4g4'), Move.from_uci('a5c6'), Move.from_uci('d5c6'), Move.from_uci('f6c6'), Move.from_uci('g4f5'), Move.from_uci('f2e3'), Move.from_uci('f5g4'), Move.from_uci('h7e7'), Move.from_uci('g4h4'), Move.from_uci('e7f7'), Move.from_uci('h4g4'), Move.from_uci('f7h7'), Move.from_uci('h3h2'), Move.from_uci('b8h2'), Move.from_uci('g4f5'), Move.from_uci('h7f7'), Move.from_uci('f5g4'), Move.from_uci('f7e7'), Move.from_uci('g4h3'), Move.from_uci('e7h7'), Move.from_uci('h3g2'), Move.from_uci('h2e5')]), ('Re5', 'Blunder', [Move.from_uci('d5a2'), Move.from_uci('e5e7'), Move.from_uci('a2b1'), Move.from_uci('a5c4'), Move.from_uci('g4h5'), Move.from_uci('e7e8'), Move.from_uci('b1f5'), Move.from_uci('c4e3'), Move.from_uci('f5h7'), Move.from_uci('e8h8'), Move.from_uci('h3h2'), Move.from_uci('g1h2'), Move.from_uci('g5g4'), Move.from_uci('h8h7'), Move.from_uci('h5g5'), Move.from_uci('f6d6'), Move.from_uci('g5f4'), Move.from_uci('e3g2'), Move.from_uci('f4f3'), Move.from_uci('h7f7'), Move.from_uci('f3e4'), Move.from_uci('f7e7'), Move.from_uci('e4f5'), Move.from_uci('g2h4'), Move.from_uci('f5g5'), Move.from_uci('d6g6'), Move.from_uci('g5h4')]), ('Kh4', 'Blunder', [Move.from_uci('e5d5'), Move.from_uci('h4h5'), Move.from_uci('d5d4'), Move.from_uci('h3h2'), Move.from_uci('b8h2'), Move.from_uci('g5g4'), Move.from_uci('d4d5'), Move.from_uci('h5h4'), Move.from_uci('f6h6')]), ('Kh2', 'Blunder', [Move.from_uci('d5a2'), Move.from_uci('e5e7'), Move.from_uci('a2b1'), Move.from_uci('f6h6'), Move.from_uci('h4g4'), Move.from_uci('a5c4'), Move.from_uci('b1c2'), Move.from_uci('c4e3'), Move.from_uci('g4f3'), Move.from_uci('e3c2'), Move.from_uci('f3g4'), Move.from_uci('h6f6'), Move.from_uci('g4h5'), Move.from_uci('c2e3')]), ('g4', 'Blunder', [Move.from_uci('f6h6')]), ('Rh6#', 'Blunder', [])]\n"
     ]
    }
   ],
   "source": [
    "import chess.engine\n",
    "\n",
    "def classify_move(change_in_expected_points):\n",
    "    if 0.3 <= change_in_expected_points < 0.6:\n",
    "        return 'Inaccuracy'\n",
    "    elif 0.61 <= change_in_expected_points < 1:\n",
    "        return 'Mistake'\n",
    "    elif change_in_expected_points >= 1.01:\n",
    "        return 'Blunder'\n",
    "    return None  \n",
    "\n",
    "def evaluate_and_classify_moves(moves, engine_path):\n",
    "    board = chess.Board()\n",
    "    engine = chess.engine.SimpleEngine.popen_uci(engine_path)\n",
    "    evaluations = []\n",
    "    move_details = []\n",
    "\n",
    "    for move_san in moves:\n",
    "        move = board.parse_san(move_san)\n",
    "        board.push(move)\n",
    "        \n",
    "        info = engine.analyse(board, chess.engine.Limit(time=0.1))\n",
    "        score = info['score'].pov(board.turn).score(mate_score=10000) / 100.0  #\n",
    "        evaluations.append(score)\n",
    "\n",
    "        if len(evaluations) > 1:\n",
    "            change_in_expected_points = abs(evaluations[-1] - evaluations[-2])\n",
    "            classification = classify_move(change_in_expected_points)\n",
    "            \n",
    "            if classification:\n",
    "                best_variation = info.get('pv', [])\n",
    "                best_variation_san = [board.san(move) for move in best_variation]\n",
    "                move_detail = (move_san, classification, evaluations[-1], best_variation_san)\n",
    "                move_details.append(move_detail)\n",
    "        else:\n",
    "            evaluations.append(0)  \n",
    "\n",
    "    engine.quit()\n",
    "    return move_details\n",
    "\n",
    "\n",
    "\n",
    "def evaluate_and_classify_moves(moves, engine_path):\n",
    "    board = chess.Board()\n",
    "    engine = chess.engine.SimpleEngine.popen_uci(engine_path)\n",
    "    evaluations = []\n",
    "    classifications = []\n",
    "\n",
    "    prev_eval = 0\n",
    "    for move_san in moves:\n",
    "        move = board.parse_san(move_san)\n",
    "        board.push(move)\n",
    "        \n",
    "        info = engine.analyse(board, chess.engine.Limit(time=0.1))\n",
    "        score = info['score'].pov(board.turn).score(mate_score=10000)\n",
    "        \n",
    "        evaluations.append(score)\n",
    "        if len(evaluations) > 1:\n",
    "            change = (evaluations[-1] - evaluations[-2]) / 100.0  \n",
    "            classification = classify_move(abs(change))\n",
    "            best_moves = info.get('pv', [])\n",
    "            classifications.append((move_san, classification, best_moves))\n",
    "        else:\n",
    "            classifications.append((move_san, 'Best', []))\n",
    "\n",
    "    engine.quit()\n",
    "    return classifications\n",
    "\n",
    "\n",
    "\n",
    "\n",
    "moves = ['e4', 'c6', 'd4', 'd5', 'e5', 'Bf5', 'Nf3', 'e6', 'c3', 'c5', 'a4', 'Nc6', 'a5', 'a6', 'Qa4', 'c4', 'b3', 'cxb3', 'Qxb3', 'Rb8', 'Qa4', 'f6', 'Bxa6', 'bxa6', 'Qxc6+', 'Qd7', 'Qxd7+', 'Kxd7', 'Nbd2', 'fxe5', 'Nxe5+', 'Ke8', 'O-O', 'Nf6', 'Ndf3', 'Bd6', 'Ng5', 'Rf8', 'Re1', 'Rc8', 'Bd2', 'h6', 'Ngf3', 'Ne4', 'Rac1', 'g5', 'h3', 'Bxe5', 'dxe5', 'Rc5', 'Be3', 'Rxa5', 'c4', 'Ke7', 'cxd5', 'exd5', 'Nd4', 'Be6', 'Nc6+', 'Kf7', 'Nxa5', 'Rb8', 'Rc7+', 'Kg6', 'Rc6', 'Kf5', 'Rxa6', 'h5', 'g4+', 'Kxe5', 'f3', 'hxg4', 'fxe4', 'gxh3', 'exd5', 'Bxd5', 'Ba7+', 'Kf4', 'Bxb8+', 'Kf3', 'Rf6+', 'Kg4', 'Re5', 'Kh4', 'Kh2', 'g4', 'Rh6#']\n",
    "engine_path = \"stockfish\\stockfish-windows-x86-64.exe\"\n",
    "print(evaluate_and_classify_moves(moves, engine_path))\n",
    "\n",
    "\n"
   ]
  }
 ],
 "metadata": {
  "kernelspec": {
   "display_name": "Python 3",
   "language": "python",
   "name": "python3"
  },
  "language_info": {
   "codemirror_mode": {
    "name": "ipython",
    "version": 3
   },
   "file_extension": ".py",
   "mimetype": "text/x-python",
   "name": "python",
   "nbconvert_exporter": "python",
   "pygments_lexer": "ipython3",
   "version": "3.9.13"
  }
 },
 "nbformat": 4,
 "nbformat_minor": 2
}
