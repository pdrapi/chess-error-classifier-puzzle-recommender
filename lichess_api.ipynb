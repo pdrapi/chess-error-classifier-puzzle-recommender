{
 "cells": [
  {
   "cell_type": "code",
   "execution_count": 184,
   "metadata": {},
   "outputs": [],
   "source": [
    "import chess.pgn\n",
    "import chess.engine\n",
    "import re\n",
    "import pandas\n",
    "import tqdm\n",
    "import berserk\n",
    "import asyncio\n",
    "from lichess_main import evaluate_position\n"
   ]
  },
  {
   "cell_type": "code",
   "execution_count": 185,
   "metadata": {},
   "outputs": [],
   "source": [
    "session = berserk.TokenSession(\"lip_PoMsbkUb8ldxVwtiDmhE\")\n",
    "client = berserk.Client(session=session)"
   ]
  },
  {
   "cell_type": "code",
   "execution_count": 186,
   "metadata": {},
   "outputs": [
    {
     "name": "stdout",
     "output_type": "stream",
     "text": [
      "{'id': 'CsPo5w92', 'rated': True, 'variant': 'standard', 'speed': 'blitz', 'perf': 'blitz', 'createdAt': datetime.datetime(2024, 3, 21, 12, 28, 49, 485000, tzinfo=datetime.timezone.utc), 'lastMoveAt': datetime.datetime(2024, 3, 21, 12, 34, 58, 361000, tzinfo=datetime.timezone.utc), 'status': 'mate', 'source': 'pool', 'players': {'white': {'user': {'name': 'drapi', 'id': 'drapi'}, 'rating': 1766, 'ratingDiff': 109, 'provisional': True, 'analysis': {'inaccuracy': 1, 'mistake': 0, 'blunder': 0, 'acpl': 19}}, 'black': {'user': {'name': 'matiasanu', 'id': 'matiasanu'}, 'rating': 1769, 'ratingDiff': -5, 'analysis': {'inaccuracy': 2, 'mistake': 2, 'blunder': 1, 'acpl': 66}}}, 'fullId': 'CsPo5w92VIZV', 'winner': 'white', 'moves': 'e4 c5 Nc3 e6 f4 a6 d4 cxd4 Qxd4 Nc6 Qd1 Bb4 Bd2 Nf6 Bd3 d6 Nf3 O-O e5 dxe5 fxe5 Ng4 Bxh7+ Kxh7 Ng5+ Qxg5 Bxg5 Ngxe5 O-O f6 Bh4 b5 a3 Ba5 Ne4 Bb7 Qh5+ Kg8 Nxf6+ gxf6 Bxf6 Nf7 Qg6#', 'analysis': [{'eval': 13}, {'eval': 33}, {'eval': 24}, {'eval': 45}, {'eval': -12, 'best': 'g1f3', 'variation': 'Nf3 Nc6 d4 cxd4 Nxd4 Qc7 g3 a6 Bg2 Nf6', 'judgment': {'name': 'Inaccuracy', 'comment': 'Inaccuracy. Nf3 was best.'}}, {'eval': 0}, {'eval': 0}, {'eval': 0}, {'eval': 0}, {'eval': 12}, {'eval': -27}, {'eval': 8}, {'eval': 15}, {'eval': 30}, {'eval': 23}, {'eval': 65}, {'eval': 64}, {'eval': 79}, {'eval': 51}, {'eval': 49}, {'eval': 65}, {'eval': 149, 'best': 'b4c3', 'variation': 'Bxc3 Bxc3 Nd5 Bd2 Qc7 Qe2 Ncb4 c4 Nxd3+ Qxd3 Ne7 Bb4 Rd8 Bd6', 'judgment': {'name': 'Inaccuracy', 'comment': 'Inaccuracy. Bxc3 was best.'}}, {'eval': 142}, {'eval': 108}, {'eval': 118}, {'eval': 341, 'best': 'h7g8', 'variation': 'Kg8 Qxg4 Qd4 Qh5 Qxe5+ Nce4 Bxd2+ Kxd2 Qf4+ Ke1 Qe3+ Kf1 Qf4+ Kg1', 'judgment': {'name': 'Blunder', 'comment': 'Blunder. Kg8 was best.'}}, {'eval': 336}, {'eval': 350}, {'eval': 311}, {'eval': 345}, {'eval': 300}, {'eval': 358}, {'eval': 295}, {'eval': 367}, {'eval': 337}, {'eval': 598, 'best': 'h7g6', 'variation': 'Kg6 c3 Bc7 Bg3 Bb7 h3 Rad8 Qc2 Kf7 Rad1 Rh8', 'judgment': {'name': 'Mistake', 'comment': 'Mistake. Kg6 was best.'}}, {'eval': 575}, {'eval': 571}, {'eval': 552}, {'eval': 757, 'best': 'f8f6', 'variation': 'Rxf6 Bxf6 Rd8 Bxd8 Bxd8 Qe8+ Kh7 Qxe6 Bf6 Rxf6 gxf6 Kh1 b4 Rf1', 'judgment': {'name': 'Inaccuracy', 'comment': 'Inaccuracy. Rxf6 was best.'}}, {'eval': 732}, {'mate': 1, 'best': 'a5b6', 'variation': 'Bb6+ Kh1 Bc5 Qh8+ Kf7 Bxe5+ Ke8 Rxf8+ Bxf8 Qh5+ Kd8 Rd1+ Nd4 Qf7', 'judgment': {'name': 'Mistake', 'comment': 'Checkmate is now unavoidable. Bb6+ was best.'}}], 'clock': {'initial': 180, 'increment': 2, 'totalTime': 260}}\n",
      "{'id': 'nfxuPA5X', 'rated': True, 'variant': 'standard', 'speed': 'blitz', 'perf': 'blitz', 'createdAt': datetime.datetime(2024, 3, 19, 10, 34, 47, 440000, tzinfo=datetime.timezone.utc), 'lastMoveAt': datetime.datetime(2024, 3, 19, 10, 45, 13, 844000, tzinfo=datetime.timezone.utc), 'status': 'mate', 'source': 'pool', 'players': {'white': {'user': {'name': 'drapi', 'id': 'drapi'}, 'rating': 1896, 'ratingDiff': -130, 'provisional': True, 'analysis': {'inaccuracy': 4, 'mistake': 6, 'blunder': 12, 'acpl': 96}}, 'black': {'user': {'name': 'Loekoeloek', 'id': 'loekoeloek'}, 'rating': 1952, 'ratingDiff': 4, 'analysis': {'inaccuracy': 6, 'mistake': 1, 'blunder': 10, 'acpl': 85}}}, 'fullId': 'nfxuPA5XAapT', 'winner': 'black', 'moves': 'e4 c5 Nc3 Nc6 f4 Nf6 Nf3 g6 Bc4 Bg7 d3 O-O h4 h5 Ng5 d6 Be3 Bg4 Qd2 Nd4 Bxd4 cxd4 Nd5 Nxd5 Bxd5 Qb6 b3 Rac8 f5 gxf5 exf5 Bxf5 Qf4 Bg6 O-O e6 Nxe6 fxe6 Bxe6+ Kh7 Qg5 Rxf1+ Rxf1 Qc5 Qe7 Rc7 Qd8 Qxc2 Bg8+ Kh8 b4 Be5 Bb3+ Kg7 Bxc2 Rxc2 Qf8+ Kh7 Qe7+ Bg7 Qxd6 Bxd3 Qg3 Be4 Rf2 d3 Rxc2 dxc2 Qe1 Bg6 g4 Bb2 Qe7+ Bg7 gxh5 Bxh5 Qe1 Bg6 Kf2 Bd4+ Kf3 Bh5+ Ke4 Bd1 Kxd4 c1=Q Qe7+ Kg6 Qe6+ Kh5 Qf5+ Kxh4 Qe4+ Bg4 Qh7+ Kg3 Qd3+ Bf3 Qg6+ Kf2 Qd3 Qd1 Qxd1 Bxd1 Kc4 Bf3 a3 Ke3 Kc5 Kd3 a4 Kc3 b5 Kb3 a5 Ka4 b6 a6 Kd6 Kxa5 Kc7 Bc6 Kd6 Kxb6 Ke5 Kb5 Kd4 Kb4 Kd3 Kb3 Kd2 Kb2 Kd1 a5 Kd2 a4 Kd3 a3 Kd2 a2 Kd3 a1=Q Kd2 Qa3 Kd1 Qc3 Ke2 Kb3 Kd1 Kc4 Ke2 Kd4 Kd1 Qb2 Ke1 Ke3 Kf1 Qf2#', 'analysis': [{'eval': 13}, {'eval': 33}, {'eval': 24}, {'eval': 41}, {'eval': -21, 'best': 'g1f3', 'variation': 'Nf3 e5 Bc4 Be7 d3 Nf6 Nd2 d6 Nf1 Bg4', 'judgment': {'name': 'Inaccuracy', 'comment': 'Inaccuracy. Nf3 was best.'}}, {'eval': 37, 'best': 'g7g6', 'variation': 'g6 Nf3 Bg7 a4 b6 Bc4 e6 Nb5 d5 exd5', 'judgment': {'name': 'Inaccuracy', 'comment': 'Inaccuracy. g6 was best.'}}, {'eval': 4}, {'eval': 51}, {'eval': 9}, {'eval': 50}, {'eval': 0}, {'eval': 0}, {'eval': -44}, {'eval': -27}, {'eval': -160, 'best': 'f4f5', 'variation': 'f5 gxf5 Bg5 Ng4 O-O b5 Nxb5 d6 a4 Rb8', 'judgment': {'name': 'Mistake', 'comment': 'Mistake. f5 was best.'}}, {'eval': -110}, {'eval': -173, 'best': 'f4f5', 'variation': 'f5 gxf5 Nd5 Ng4 Nf4 Nce5 Qe2 d5 Bxd5 e6 Bb3 b5 exf5 exf5', 'judgment': {'name': 'Inaccuracy', 'comment': 'Inaccuracy. f5 was best.'}}, {'eval': -98, 'best': 'e7e6', 'variation': 'e6 Qd2 Ng4 Nd1 d5 Bb3 b6 e5 f6 exf6 Qxf6 O-O Nd4 Ba4', 'judgment': {'name': 'Inaccuracy', 'comment': 'Inaccuracy. e6 was best.'}}, {'eval': -97}, {'eval': -55}, {'eval': -113, 'best': 'e1h1', 'variation': 'O-O e6 a4 Rc8 a5 d5 Ba2 Qd7 Qf2 Rfd8 Kh1 b5 axb6 axb6', 'judgment': {'name': 'Inaccuracy', 'comment': 'Inaccuracy. O-O was best.'}}, {'eval': -113}, {'eval': -240, 'best': 'c3e2', 'variation': 'Ne2 e6 Nxd4 d5 Bb3 dxe4 dxe4 Nxe4 Nxe4 Bxd4 c3 Bg7 Qxd8 Raxd8', 'judgment': {'name': 'Mistake', 'comment': 'Mistake. Ne2 was best.'}}, {'eval': -48, 'best': 'f6h7', 'variation': 'Nh7', 'judgment': {'name': 'Blunder', 'comment': 'Blunder. Nh7 was best.'}}, {'eval': -50}, {'eval': -39}, {'eval': -303, 'best': 'e1h1', 'variation': 'O-O', 'judgment': {'name': 'Blunder', 'comment': 'Blunder. O-O was best.'}}, {'eval': -91, 'best': 'e7e6', 'variation': 'e6 Bc4 d5 exd5 exd5 Bxd5 Rae8+ Kf1 Re2 Qd1 Rf2+ Kxf2 Bxd1 Rhxd1', 'judgment': {'name': 'Blunder', 'comment': 'Blunder. e6 was best.'}}, {'eval': -261, 'best': 'b3b4', 'variation': 'b4', 'judgment': {'name': 'Mistake', 'comment': 'Mistake. b4 was best.'}}, {'eval': -232}, {'eval': -288}, {'eval': 208, 'best': 'b6c5', 'variation': 'Qc5 Bf3 Qe5+ Kd1 Qxf5 Re1 Rc7 Re4 Bxf3+ Nxf3 Rfc8 Rc1 d5 Re2', 'judgment': {'name': 'Blunder', 'comment': 'Blunder. Qc5 was best.'}}, {'eval': -447, 'best': 'e1h1', 'variation': 'O-O Bg6 Nxf7 Qc5 Qg5 Bxf7 Rxf7 Rxf7 Rf1 e6 Rxf7 Kxf7 Qf5+ Kg8', 'judgment': {'name': 'Blunder', 'comment': 'Blunder. O-O was best.'}}, {'eval': -123, 'best': 'b6a5', 'variation': 'Qa5+ Qd2 Qxd5 O-O f6 Nf3 Bh7 Rae1 e5 Nh2 e4 dxe4 Qc5 b4', 'judgment': {'name': 'Blunder', 'comment': 'Blunder. Qa5+ was best.'}}, {'eval': -132}, {'eval': -100}, {'eval': -389, 'best': 'd5e4', 'variation': 'Be4 d5 Bxg6 fxg6 Qh2 Qc6 g4 hxg4 Qe2 Rxf1+ Rxf1 Qd6 Qxg4 Rxc2', 'judgment': {'name': 'Blunder', 'comment': 'Blunder. Be4 was best.'}}, {'eval': -382}, {'eval': -371}, {'eval': -365}, {'eval': -424}, {'eval': -172, 'best': 'c8c5', 'variation': 'Rc5 Bd5 Qd8 Qxd8 Rxd8 Bxb7 Re8 Rf2 Bh6 Rf6 Re7 Ba8 Bd2 Raf1', 'judgment': {'name': 'Blunder', 'comment': 'Blunder. Rc5 was best.'}}, {'eval': -175}, {'eval': -46, 'best': 'b6d8', 'variation': 'Qd8 Bxc8 Qxc8 Rf2 Qe8 Kf1 Qe5 Qf4 Qxf4 Rxf4 Kg8 Rf3 Be5 b4', 'judgment': {'name': 'Mistake', 'comment': 'Mistake. Qd8 was best.'}}, {'eval': -439, 'best': 'e6f5', 'variation': 'Bf5', 'judgment': {'name': 'Blunder', 'comment': 'Blunder. Bf5 was best.'}}, {'eval': -105, 'best': 'c8e8', 'variation': 'Re8 Qd7 Qe5 Bf5 Re7 Bxg6+ Kxg6 Qd8 Rf7 Rxf7 Kxf7 Qc7+ Kg6 Kf1', 'judgment': {'name': 'Blunder', 'comment': 'Blunder. Re8 was best.'}}, {'eval': -99}, {'eval': 0, 'best': 'c7c6', 'variation': 'Rc6 Re1 a5 Re2 Kh6 Bd7 Rc7 Re6 Kh7 Rxg6 Rxd7 Qxd7 Kxg6 Qe8+', 'judgment': {'name': 'Inaccuracy', 'comment': 'Inaccuracy. Rc6 was best.'}}, {'eval': 0}, {'eval': 0}, {'eval': -438, 'best': 'g8c4', 'variation': 'Bc4+ Kh7 Bg8+ Kh8', 'judgment': {'name': 'Blunder', 'comment': 'Blunder. Bc4+ was best.'}}, {'mate': 3, 'best': 'c7c8', 'variation': 'Rc8 Qg5 Qxd3 Be6 Ra8 Bf5 Bxf5 Rxf5 Qd1+ Kf2 Qg4 Qxh5+ Qxh5 Rxh5+', 'judgment': {'name': 'Blunder', 'comment': 'Checkmate is now unavoidable. Rc8 was best.'}}, {'eval': 405, 'best': 'g8f7', 'variation': 'Bf7+ Kh7 Qg8+ Kh6 Qxg6#', 'judgment': {'name': 'Blunder', 'comment': 'Lost forced checkmate sequence. Bf7+ was best.'}}, {'mate': 5, 'best': 'h8h7', 'variation': 'Kh7 Qg8+ Kh6 Bxc2 Rxc2 Re1 Rc7 Rxe5 dxe5 Qh8+ Rh7 Qxe5 Rg7 Qxd4', 'judgment': {'name': 'Blunder', 'comment': 'Checkmate is now unavoidable. Kh7 was best.'}}, {'eval': 613, 'best': 'd8f8', 'variation': 'Qf8+ Kh7 Bg8+ Kh8 Bf7+ Kh7 Qg8+ Kh6 Qxg6#', 'judgment': {'name': 'Blunder', 'comment': 'Lost forced checkmate sequence. Qf8+ was best.'}}, {'eval': 883, 'best': 'c7f7', 'variation': 'Rf7 Rxf7+ Bxf7 Bb3 Bxb3 Qg5+ Kf8 axb3 Bg7 Qf5+ Kg8 Qd5+ Kf8 Qxd6+', 'judgment': {'name': 'Inaccuracy', 'comment': 'Inaccuracy. Rf7 was best.'}}, {'eval': 493, 'best': 'd8e7', 'variation': 'Qe7+ Kh6 g4 hxg4 Qg5+ Kh7 h5 Be8 Qe7+ Kh6 Qxe8 Kg5 Qd8+ Kh6', 'judgment': {'name': 'Mistake', 'comment': 'Mistake. Qe7+ was best.'}}, {'eval': 479}, {'eval': 476}, {'eval': 476}, {'eval': 421}, {'eval': 572, 'best': 'c2e2', 'variation': 'Re2 Qd7 b6 Rf7 Bxf7 Qxf7 Re5 Qxa7 b5 Qf7 Kh6 Kf2 Bh8 g3', 'judgment': {'name': 'Inaccuracy', 'comment': 'Inaccuracy. Re2 was best.'}}, {'eval': 316, 'best': 'f1f7', 'variation': 'Rf7 Bg6 Re7 Be4 Rxg7+ Kxg7 Qxd4+ Kf7 Qxe4 Rc6 Qe5 Rb6 Qxh5+ Ke7', 'judgment': {'name': 'Mistake', 'comment': 'Mistake. Rf7 was best.'}}, {'eval': 455, 'best': 'd3f1', 'variation': 'Bxf1 Kxf1 Rc1+ Kf2 Rc2+ Kg1 Rc1+ Kh2 Bf6 Qf4 Rc6 b5 Rb6 Kh3', 'judgment': {'name': 'Inaccuracy', 'comment': 'Inaccuracy. Bxf1 was best.'}}, {'eval': 366}, {'eval': 378}, {'eval': 0, 'best': 'g3e3', 'variation': 'Qe3 Bg6 g4 Rxf2 Kxf2 Kh8 Qg5 Bh7 Qd8+ Bg8 b5 d2 Qxd2 Bf7', 'judgment': {'name': 'Blunder', 'comment': 'Blunder. Qe3 was best.'}}, {'eval': 0}, {'eval': 0}, {'eval': 0}, {'eval': 0}, {'eval': 0}, {'eval': 0}, {'eval': 0}, {'eval': -809, 'best': 'e7c7', 'variation': 'Qc7 hxg4 Kf2 Kh6 Qf4+ Kh7', 'judgment': {'name': 'Blunder', 'comment': 'Blunder. Qc7 was best.'}}, {'eval': 0, 'best': 'c2c1q', 'variation': 'c1=Q+ Kg2 Qc2+ Kg3 Be4 Qxg7+ Kxg7 Kf4 Qd3 a3 Kh6 Ke5 a5 bxa5', 'judgment': {'name': 'Blunder', 'comment': 'Blunder. c1=Q+ was best.'}}, {'eval': 0}, {'eval': 0}, {'eval': 0}, {'eval': 0}, {'eval': 0}, {'eval': 0}, {'eval': -465, 'best': 'f3g3', 'variation': 'Kg3 Bg7 Qd2 Bd1 h5 Be5+ Kh4 Bf6+ Kg3', 'judgment': {'name': 'Blunder', 'comment': 'Blunder. Kg3 was best.'}}, {'eval': 0, 'best': 'd4b2', 'variation': 'Bb2 a4 c1=Q Qxc1 Bxc1 a5 Kg6 Ke5 Bg4 a6 b6 b5 Ba3 Kd5', 'judgment': {'name': 'Blunder', 'comment': 'Blunder. Bb2 was best.'}}, {'eval': 0}, {'eval': 0}, {'eval': 0}, {'eval': 0}, {'eval': -5}, {'eval': -8}, {'eval': -58}, {'eval': -69}, {'eval': -78}, {'eval': -46}, {'eval': -229, 'best': 'e4b7', 'variation': 'Qxb7', 'judgment': {'name': 'Blunder', 'comment': 'Blunder. Qxb7 was best.'}}, {'eval': -241}, {'eval': -508, 'best': 'h7b7', 'variation': 'Qxb7 Qa1+', 'judgment': {'name': 'Blunder', 'comment': 'Blunder. Qxb7 was best.'}}, {'eval': -506}, {'eval': -569}, {'eval': -531}, {'eval': -566}, {'eval': -543}, {'eval': -508}, {'eval': -605}, {'eval': -607}, {'eval': -552}, {'eval': -625}, {'eval': -549}, {'eval': -792, 'best': 'c4c3', 'variation': 'Kc3 Be2 Kc2 Kd4 Kd2 Bd1 Ke1 Kc4 Kd2 Ba4 Ke2 Kb3 Kd2 a6', 'judgment': {'name': 'Inaccuracy', 'comment': 'Inaccuracy. Kc3 was best.'}}, {'eval': -766}, {'eval': -792}, {'eval': -793}, {'eval': -739}, {'eval': -756}, {'eval': -793}, {'eval': -773}, {'eval': -854}, {'eval': -846}, {'mate': -24, 'best': 'c5c4', 'variation': 'Kc4 Kxa5 Kb3 Bd5+ Ka3 Kb5 Kb2 Kb4 Kc1 Bc6 Kc2 a5 Kb2 a4', 'judgment': {'name': 'Mistake', 'comment': 'Checkmate is now unavoidable. Kc4 was best.'}}, {'mate': -23}, {'mate': -18}, {'mate': -17}, {'mate': -18}, {'mate': -16}, {'mate': -16}, {'mate': -15}, {'mate': -15}, {'mate': -14}, {'mate': -14}, {'mate': -13}, {'mate': -13}, {'mate': -12}, {'mate': -12}, {'mate': -11}, {'mate': -11}, {'mate': -10}, {'mate': -10}, {'mate': -9}, {'mate': -11}, {'mate': -10}, {'mate': -6}, {'mate': -5}, {'mate': -4}, {'mate': -3}, {'mate': -3}, {'mate': -3}, {'mate': -3}, {'mate': -3}, {'mate': -1}, {'mate': -4}, {'mate': -4}, {'mate': -3}, {'mate': -1}, {'mate': -2}, {'mate': -2}, {'mate': -1}, {'mate': -1}], 'clock': {'initial': 180, 'increment': 2, 'totalTime': 260}}\n",
      "{'id': '8TotAlGV', 'rated': True, 'variant': 'standard', 'speed': 'blitz', 'perf': 'blitz', 'createdAt': datetime.datetime(2024, 3, 19, 8, 14, 50, 340000, tzinfo=datetime.timezone.utc), 'lastMoveAt': datetime.datetime(2024, 3, 19, 8, 17, 21, 680000, tzinfo=datetime.timezone.utc), 'status': 'resign', 'source': 'pool', 'players': {'white': {'user': {'name': 'aenye505', 'id': 'aenye505'}, 'rating': 1670, 'ratingDiff': -4, 'analysis': {'inaccuracy': 5, 'mistake': 0, 'blunder': 1, 'acpl': 45}}, 'black': {'user': {'name': 'drapi', 'id': 'drapi'}, 'rating': 1500, 'ratingDiff': 396, 'provisional': True, 'analysis': {'inaccuracy': 3, 'mistake': 0, 'blunder': 0, 'acpl': 20}}}, 'fullId': '8TotAlGValRa', 'winner': 'black', 'moves': 'e4 c6 Nf3 d5 e5 Bg4 d4 e6 Be2 c5 h3 Bh5 g4 Bg6 Bd3 Bxd3 Qxd3 Nc6 Be3 c4 Qe2 Qb6 b3 cxb3 axb3 Nge7 Nc3 Ng6 h4 Bb4 Bd2 Nxd4 Nxd4 Qxd4 h5 Bxc3 hxg6 Bxd2+ Qxd2 Qxa1+ Qd1 Qxd1+ Kxd1 fxg6 Kd2 Rf8', 'analysis': [{'eval': 13}, {'eval': 24}, {'eval': 26}, {'eval': 37}, {'eval': 15}, {'eval': 0}, {'eval': 34}, {'eval': 28}, {'eval': 0}, {'eval': 0}, {'eval': -92, 'best': 'c2c4', 'variation': 'c4 Nc6 cxd5 Qxd5 Nc3 Qd7 Be3 Bxf3 Bxf3 Nxd4', 'judgment': {'name': 'Inaccuracy', 'comment': 'Inaccuracy. c4 was best.'}}, {'eval': 17, 'best': 'g4f3', 'variation': 'Bxf3 Bxf3 cxd4 Qxd4 Ne7 Nd2 Nec6 Qa4 Nd7 O-O', 'judgment': {'name': 'Inaccuracy', 'comment': 'Inaccuracy. Bxf3 was best.'}}, {'eval': -65, 'best': 'c2c4', 'variation': 'c4 cxd4 Nxd4 Bxe2 Qxe2 Nc6 Nxc6 bxc6 Nd2 Ne7', 'judgment': {'name': 'Inaccuracy', 'comment': 'Inaccuracy. c4 was best.'}}, {'eval': -49}, {'eval': -89}, {'eval': -85}, {'eval': -85}, {'eval': -79}, {'eval': -117}, {'eval': -35, 'best': 'h7h5', 'variation': 'h5 Rf1 Qb6 Nc3 hxg4 hxg4 Rh3 Ng1 cxd4 Nxh3 dxe3 O-O-O Nxe5 Qxe3', 'judgment': {'name': 'Inaccuracy', 'comment': 'Inaccuracy. h5 was best.'}}, {'eval': -48}, {'eval': -13}, {'eval': -58}, {'eval': 0, 'best': 'h7h5', 'variation': 'h5', 'judgment': {'name': 'Inaccuracy', 'comment': 'Inaccuracy. h5 was best.'}}, {'eval': 1}, {'eval': 16}, {'eval': 16}, {'eval': 16}, {'eval': -68, 'best': 'e1f1', 'variation': 'Kf1 h5', 'judgment': {'name': 'Inaccuracy', 'comment': 'Inaccuracy. Kf1 was best.'}}, {'eval': -64}, {'eval': -156, 'best': 'e2d3', 'variation': 'Qd3 h5', 'judgment': {'name': 'Inaccuracy', 'comment': 'Inaccuracy. Qd3 was best.'}}, {'eval': -166}, {'eval': -155}, {'eval': -112}, {'eval': -406, 'best': 'e2b5', 'variation': 'Qb5+ Kf8', 'judgment': {'name': 'Blunder', 'comment': 'Blunder. Qb5+ was best.'}}, {'eval': -414}, {'eval': -526, 'best': 'e2b5', 'variation': 'Qb5+ Kd8 Kf1 Bxd2 Ra4 a6 Qxb7 Qa7 Qxa7 Rxa7 hxg6 fxg6 b4 Bf4', 'judgment': {'name': 'Inaccuracy', 'comment': 'Inaccuracy. Qb5+ was best.'}}, {'eval': -521}, {'eval': -587}, {'eval': -584}, {'eval': -583}, {'eval': -587}, {'eval': -580}, {'eval': -578}, {'eval': -596}, {'eval': -533}], 'clock': {'initial': 180, 'increment': 0, 'totalTime': 180}}\n"
     ]
    }
   ],
   "source": [
    "# Example function to get game history of a player\n",
    "def get_game_history(username, max_games=10):\n",
    "    try:\n",
    "        game_history = client.games.export_by_player(username, max=max_games, evals=True)\n",
    "        return list(game_history)  # Convert generator to list\n",
    "    except berserk.exceptions.ResponseError as e:\n",
    "        print(f\"Error: {e}\")\n",
    "        return None\n",
    "\n",
    "# Example usage\n",
    "username = 'drapi'\n",
    "game_history = get_game_history(username)\n",
    "if game_history:\n",
    "    for game in game_history:\n",
    "        print(game)  # Modify this to process each game data as needed"
   ]
  },
  {
   "cell_type": "code",
   "execution_count": 187,
   "metadata": {},
   "outputs": [
    {
     "data": {
      "text/plain": [
       "158"
      ]
     },
     "execution_count": 187,
     "metadata": {},
     "output_type": "execute_result"
    }
   ],
   "source": [
    "total_moves = str(game_history[1]['moves']).split(\" \")\n",
    "len(total_moves) #79"
   ]
  },
  {
   "cell_type": "code",
   "execution_count": 188,
   "metadata": {},
   "outputs": [
    {
     "data": {
      "text/plain": [
       "'c5'"
      ]
     },
     "execution_count": 188,
     "metadata": {},
     "output_type": "execute_result"
    }
   ],
   "source": [
    "total_moves[1]"
   ]
  },
  {
   "cell_type": "code",
   "execution_count": 189,
   "metadata": {},
   "outputs": [
    {
     "data": {
      "text/plain": [
       "{'eval': -21,\n",
       " 'best': 'g1f3',\n",
       " 'variation': 'Nf3 e5 Bc4 Be7 d3 Nf6 Nd2 d6 Nf1 Bg4',\n",
       " 'judgment': {'name': 'Inaccuracy', 'comment': 'Inaccuracy. Nf3 was best.'}}"
      ]
     },
     "execution_count": 189,
     "metadata": {},
     "output_type": "execute_result"
    }
   ],
   "source": [
    "len(game_history[1][\"analysis\"])\n",
    "game_history[1][\"analysis\"][4]"
   ]
  },
  {
   "cell_type": "code",
   "execution_count": 193,
   "metadata": {},
   "outputs": [
    {
     "data": {
      "text/plain": [
       "PovScore(Cp(+116), BLACK)"
      ]
     },
     "execution_count": 193,
     "metadata": {},
     "output_type": "execute_result"
    }
   ],
   "source": [
    "evaluation = evaluate_position(game_history[1][\"moves\"], 35, \"stockfish/stockfish-macos-m1-apple-silicon\")\n",
    "evaluation\n"
   ]
  },
  {
   "cell_type": "code",
   "execution_count": null,
   "metadata": {},
   "outputs": [],
   "source": []
  }
 ],
 "metadata": {
  "kernelspec": {
   "display_name": "Python 3",
   "language": "python",
   "name": "python3"
  },
  "language_info": {
   "codemirror_mode": {
    "name": "ipython",
    "version": 3
   },
   "file_extension": ".py",
   "mimetype": "text/x-python",
   "name": "python",
   "nbconvert_exporter": "python",
   "pygments_lexer": "ipython3",
   "version": "3.9.12"
  }
 },
 "nbformat": 4,
 "nbformat_minor": 2
}
